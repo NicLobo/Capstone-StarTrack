{
 "cells": [
  {
   "cell_type": "code",
   "execution_count": 1,
   "id": "95918bd8",
   "metadata": {},
   "outputs": [],
   "source": [
    "from yoGERT.PreProcessing import Validate_CSV"
   ]
  },
  {
   "cell_type": "code",
   "execution_count": 2,
   "id": "6db9db00",
   "metadata": {},
   "outputs": [
    {
     "name": "stdout",
     "output_type": "stream",
     "text": [
      "Success: Your processed file(s) now reside in: /home/moksha/4G06/output.csv\n"
     ]
    },
    {
     "data": {
      "text/plain": [
       "('/home/moksha/4G06/output.csv', True)"
      ]
     },
     "execution_count": 2,
     "metadata": {},
     "output_type": "execute_result"
    }
   ],
   "source": [
    "Validate_CSV(\"/home/moksha/4G06/Capstone-yoGERT/test/exampleDataset/trace_1.csv\", \"/home/moksha/4G06/output/\")"
   ]
  }
 ],
 "metadata": {
  "kernelspec": {
   "display_name": "Python 3 (ipykernel)",
   "language": "python",
   "name": "python3"
  },
  "language_info": {
   "codemirror_mode": {
    "name": "ipython",
    "version": 3
   },
   "file_extension": ".py",
   "mimetype": "text/x-python",
   "name": "python",
   "nbconvert_exporter": "python",
   "pygments_lexer": "ipython3",
   "version": "3.8.10"
  }
 },
 "nbformat": 4,
 "nbformat_minor": 5
}
