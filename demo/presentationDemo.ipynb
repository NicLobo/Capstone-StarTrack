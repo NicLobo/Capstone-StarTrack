{
 "cells": [
  {
   "cell_type": "code",
   "execution_count": 1,
   "metadata": {},
   "outputs": [],
   "source": [
    "from yoGERT.PreProcessing import Validate_CSV\n",
    "from yoGERT.EpisodeGeneration import episodeGenerator\n",
    "from yoGERT.FetchActivityLocations import FetchActivityLocations\n",
    "from yoGERT.ShortestRoute import ShortestRoute\n",
    "from yoGERT.ShortestRouteEpisode import ShortestRouteEpisode\n",
    "from yoGERT.ShortestRouteStop import ShortestRouteStop\n",
    "from yoGERT.ShortestRouteTrace import ShortestRouteTrace\n",
    "from yoGERT.AlternativeRoute import AlternativeRoute\n",
    "from yoGERT.NetworkGraph import NetworkGraph\n",
    "from yoGERT.Mapping import MapEpisodePoints, MapActivityLocation, MapRoute\n",
    "#from yoGERT.Transformation import *\n"
   ]
  },
  {
   "cell_type": "code",
   "execution_count": 4,
   "metadata": {},
   "outputs": [
    {
     "name": "stdout",
     "output_type": "stream",
     "text": [
      "Success: Your processed file(s) now reside in: /Users/tommylw/Desktop/University/SE_4G06/Capstone-yoGERT/src/processedOutput\n"
     ]
    },
    {
     "data": {
      "text/plain": [
       "('/Users/tommylw/Desktop/University/SE_4G06/Capstone-yoGERT/src/processedOutput',\n",
       " True)"
      ]
     },
     "execution_count": 4,
     "metadata": {},
     "output_type": "execute_result"
    }
   ],
   "source": [
    "# Preprocessing\n",
    "csvPath = \"/Users/tommylw/Desktop/University/SE_4G06/Capstone-yoGERT/src/exampleDataset/trace_1.csv\"\n",
    "exportPath = \"/Users/tommylw/Desktop/University/SE_4G06/Capstone-yoGERT/src/processedOutput/\"\n",
    "\n",
    "Validate_CSV(csvPath, exportPath)"
   ]
  },
  {
   "cell_type": "code",
   "execution_count": 6,
   "metadata": {},
   "outputs": [
    {
     "name": "stdout",
     "output_type": "stream",
     "text": [
      "Trace folder created \n",
      "Trace.csv created\n",
      "Segments csv created\n",
      "Stop folder created \n",
      "Stops.csv created\n",
      "Stops csv filtered with distance tolerance of 60 time tolerance of60\n",
      "Episode folder created \n",
      "mode.DRIVE\n",
      "mode.DRIVE\n",
      "mode.DRIVE\n",
      "Summarymodes.csv created successfully\n",
      "Episodes generated successfully\n"
     ]
    },
    {
     "name": "stderr",
     "output_type": "stream",
     "text": [
      "/opt/homebrew/lib/python3.10/site-packages/yoGERT/EpisodeGeneration.py:258: SettingWithCopyWarning: \n",
      "A value is trying to be set on a copy of a slice from a DataFrame.\n",
      "Try using .loc[row_indexer,col_indexer] = value instead\n",
      "\n",
      "See the caveats in the documentation: https://pandas.pydata.org/pandas-docs/stable/user_guide/indexing.html#returning-a-view-versus-a-copy\n",
      "  newepisode[\"mode\"] = finalmode\n"
     ]
    }
   ],
   "source": [
    "# EpisodeGeneration\n",
    "csvPath = \"/Users/tommylw/Desktop/University/SE_4G06/Capstone-yoGERT/src/processedOutput/trace0.csv\"\n",
    "dirPath = \"/Users/tommylw/Desktop/University/SE_4G06/Capstone-yoGERT/src/trace\"\n",
    "\n",
    "episodeGenerator(csvPath,dirPath,\"trace0\")"
   ]
  },
  {
   "cell_type": "code",
   "execution_count": 13,
   "metadata": {},
   "outputs": [
    {
     "name": "stdout",
     "output_type": "stream",
     "text": [
      "File is converted to Point type objects\n",
      "\n",
      "Episodes were mapped successfully and saved at /Users/tommylw/Desktop/University/SE_4G06/Capstone-yoGERT/src/trace/trace0/episode_points.html\n"
     ]
    },
    {
     "data": {
      "text/plain": [
       "True"
      ]
     },
     "execution_count": 13,
     "metadata": {},
     "output_type": "execute_result"
    }
   ],
   "source": [
    "# Mapping Episodes\n",
    "episodePath = \"/Users/tommylw/Desktop/University/SE_4G06/Capstone-yoGERT/src/trace/trace0/episode/3_episode.csv\"\n",
    "exportMapPath = \"/Users/tommylw/Desktop/University/SE_4G06/Capstone-yoGERT/src/trace/trace0/episode_points.html\"\n",
    "MapEpisodePoints(episodePath,exportMapPath)"
   ]
  },
  {
   "cell_type": "code",
   "execution_count": 5,
   "metadata": {},
   "outputs": [
    {
     "name": "stdout",
     "output_type": "stream",
     "text": [
      "File is converted to Point type objects\n",
      "\n"
     ]
    },
    {
     "ename": "AttributeError",
     "evalue": "type object 'ActivityLocation' has no attribute 'ActivityLocation'",
     "output_type": "error",
     "traceback": [
      "\u001b[0;31m---------------------------------------------------------------------------\u001b[0m",
      "\u001b[0;31mAttributeError\u001b[0m                            Traceback (most recent call last)",
      "Cell \u001b[0;32mIn[5], line 4\u001b[0m\n\u001b[1;32m      2\u001b[0m stopPath \u001b[39m=\u001b[39m \u001b[39m\"\u001b[39m\u001b[39m/Users/tommylw/Desktop/University/SE_4G06/Capstone-yoGERT/src/trace/trace0/stop/stops.csv\u001b[39m\u001b[39m\"\u001b[39m\n\u001b[1;32m      3\u001b[0m storedPath \u001b[39m=\u001b[39m \u001b[39m\"\u001b[39m\u001b[39m/Users/tommylw/Desktop/University/SE_4G06/Capstone-yoGERT/src/trace/trace0/stop/activity_location.csv\u001b[39m\u001b[39m\"\u001b[39m\n\u001b[0;32m----> 4\u001b[0m FetchActivityLocations(stopPath,storedPath,\u001b[39m500\u001b[39;49m)\n",
      "File \u001b[0;32m/opt/homebrew/lib/python3.10/site-packages/yoGERT/FetchActivityLocations.py:128\u001b[0m, in \u001b[0;36mFetchActivityLocations\u001b[0;34m(inPath, outPath, tol)\u001b[0m\n\u001b[1;32m    126\u001b[0m list_of_stops_AL \u001b[39m=\u001b[39m []\n\u001b[1;32m    127\u001b[0m \u001b[39mfor\u001b[39;00m i \u001b[39min\u001b[39;00m listStops:\n\u001b[0;32m--> 128\u001b[0m     stopALTupple\u001b[39m=\u001b[39m fetchALForIndividualPoint(i, tol)\n\u001b[1;32m    129\u001b[0m     list_of_stops_AL\u001b[39m.\u001b[39mappend(stopALTupple)\n\u001b[1;32m    132\u001b[0m listActivities \u001b[39m=\u001b[39m[]\n",
      "File \u001b[0;32m/opt/homebrew/lib/python3.10/site-packages/yoGERT/FetchActivityLocations.py:98\u001b[0m, in \u001b[0;36mfetchALForIndividualPoint\u001b[0;34m(stopPoint, tol)\u001b[0m\n\u001b[1;32m     95\u001b[0m \u001b[39mfor\u001b[39;00m row \u001b[39min\u001b[39;00m data_frame\u001b[39m.\u001b[39mitertuples():\n\u001b[1;32m     96\u001b[0m     \u001b[39mif\u001b[39;00m \u001b[39mstr\u001b[39m(row\u001b[39m.\u001b[39mname) \u001b[39m!=\u001b[39m \u001b[39m\"\u001b[39m\u001b[39mnan\u001b[39m\u001b[39m\"\u001b[39m:\n\u001b[1;32m     97\u001b[0m         \u001b[39m#creates new activity location object containging name and latitude, longitude information\u001b[39;00m\n\u001b[0;32m---> 98\u001b[0m         newActivityLocation \u001b[39m=\u001b[39m ActivityLocation\u001b[39m.\u001b[39;49mActivityLocation(\u001b[39mstr\u001b[39m(row\u001b[39m.\u001b[39mname), row\u001b[39m.\u001b[39mlatitude, row\u001b[39m.\u001b[39mlongitude, row\u001b[39m.\u001b[39mamenity)\n\u001b[1;32m     99\u001b[0m         \u001b[39m# Add activity location object to list of activity locations\u001b[39;00m\n\u001b[1;32m    100\u001b[0m         activityLocationList\u001b[39m.\u001b[39mappend(newActivityLocation) \n",
      "\u001b[0;31mAttributeError\u001b[0m: type object 'ActivityLocation' has no attribute 'ActivityLocation'"
     ]
    }
   ],
   "source": [
    "# Find Activity Location\n",
    "stopPath = \"/Users/tommylw/Desktop/University/SE_4G06/Capstone-yoGERT/src/trace/trace0/stop/stops.csv\"\n",
    "storedPath = \"/Users/tommylw/Desktop/University/SE_4G06/Capstone-yoGERT/src/trace/trace0/stop/activity_location.csv\"\n",
    "FetchActivityLocations(stopPath,storedPath,500)"
   ]
  },
  {
   "cell_type": "code",
   "execution_count": 2,
   "metadata": {},
   "outputs": [
    {
     "name": "stdout",
     "output_type": "stream",
     "text": [
      "File is converted to Point type objects\n",
      "\n",
      "Network Graph was successfully created!\n",
      "File is converted to Point type objects\n",
      "\n",
      "Shortest Route Stop was created successfully\n",
      "Route was mapped successfully and saved at /Users/tommylw/Desktop/University/SE_4G06/Capstone-yoGERT/src/trace/trace0/shortest_stops.html\n"
     ]
    },
    {
     "data": {
      "text/plain": [
       "True"
      ]
     },
     "execution_count": 2,
     "metadata": {},
     "output_type": "execute_result"
    }
   ],
   "source": [
    "# Shortest Route based on Stop points\n",
    "stopPath = \"/Users/tommylw/Desktop/University/SE_4G06/Capstone-yoGERT/src/trace/trace0/stop/stops.csv\"\n",
    "tracePath = \"/Users/tommylw/Desktop/University/SE_4G06/Capstone-yoGERT/src/trace/trace0/trace.csv\"\n",
    "network = NetworkGraph(tracePath, \"drive\", False)\n",
    "shortestStopRoute = ShortestRouteStop(network,stopPath)\n",
    "\n",
    "# Mapping\n",
    "exportMapPath = \"/Users/tommylw/Desktop/University/SE_4G06/Capstone-yoGERT/src/trace/trace0/shortest_stops.html\"\n",
    "MapRoute(network,shortestStopRoute,exportMapPath)\n"
   ]
  },
  {
   "cell_type": "code",
   "execution_count": 3,
   "metadata": {},
   "outputs": [
    {
     "name": "stdout",
     "output_type": "stream",
     "text": [
      "File is converted to Point type objects\n",
      "\n",
      "Network Graph was successfully created!\n",
      "File is converted to Point type objects\n",
      "\n"
     ]
    },
    {
     "ename": "KeyboardInterrupt",
     "evalue": "",
     "output_type": "error",
     "traceback": [
      "\u001b[0;31m---------------------------------------------------------------------------\u001b[0m",
      "\u001b[0;31mKeyboardInterrupt\u001b[0m                         Traceback (most recent call last)",
      "Cell \u001b[0;32mIn[3], line 4\u001b[0m\n\u001b[1;32m      2\u001b[0m episodePath \u001b[39m=\u001b[39m \u001b[39m\"\u001b[39m\u001b[39m/Users/tommylw/Desktop/University/SE_4G06/Capstone-yoGERT/src/trace/trace0/episode/1_episode.csv\u001b[39m\u001b[39m\"\u001b[39m\n\u001b[1;32m      3\u001b[0m network \u001b[39m=\u001b[39m NetworkGraph(episodePath,\u001b[39m\"\u001b[39m\u001b[39mdrive\u001b[39m\u001b[39m\"\u001b[39m)\n\u001b[0;32m----> 4\u001b[0m shortestEpisodeRoute \u001b[39m=\u001b[39m ShortestRouteEpisode(network,episodePath)\n\u001b[1;32m      6\u001b[0m \u001b[39m# Mapping\u001b[39;00m\n\u001b[1;32m      7\u001b[0m exportMapPath \u001b[39m=\u001b[39m \u001b[39m\"\u001b[39m\u001b[39m/Users/tommylw/Desktop/University/SE_4G06/Capstone-yoGERT/src/trace/trace0/shortest_episode.html\u001b[39m\u001b[39m\"\u001b[39m\n",
      "File \u001b[0;32m/opt/homebrew/lib/python3.10/site-packages/yoGERT/ShortestRouteEpisode.py:41\u001b[0m, in \u001b[0;36mShortestRouteEpisode.__init__\u001b[0;34m(self, networkGraph, filePath, optimizer, sampling, samplingDist)\u001b[0m\n\u001b[1;32m     39\u001b[0m     \u001b[39mself\u001b[39m\u001b[39m.\u001b[39msampledData \u001b[39m=\u001b[39m [\u001b[39mself\u001b[39m\u001b[39m.\u001b[39minputData[\u001b[39m0\u001b[39m], \u001b[39mself\u001b[39m\u001b[39m.\u001b[39minputData[\u001b[39m-\u001b[39m\u001b[39m1\u001b[39m]]\n\u001b[1;32m     40\u001b[0m \u001b[39m#self.sampledData = self.findSamples(listOfPoints, sampling, samplingDist)\u001b[39;00m\n\u001b[0;32m---> 41\u001b[0m \u001b[39mself\u001b[39m\u001b[39m.\u001b[39mnodes \u001b[39m=\u001b[39m \u001b[39mself\u001b[39;49m\u001b[39m.\u001b[39;49mfindNodes(\u001b[39mself\u001b[39;49m\u001b[39m.\u001b[39;49msampledData, networkGraph)\n\u001b[1;32m     42\u001b[0m \u001b[39mself\u001b[39m\u001b[39m.\u001b[39mwt \u001b[39m=\u001b[39m optimizer\n\u001b[1;32m     43\u001b[0m \u001b[39mself\u001b[39m\u001b[39m.\u001b[39msampling \u001b[39m=\u001b[39m sampling\n",
      "File \u001b[0;32m/opt/homebrew/lib/python3.10/site-packages/yoGERT/ShortestRouteEpisode.py:74\u001b[0m, in \u001b[0;36mShortestRouteEpisode.findNodes\u001b[0;34m(self, listOfSampledPoints, graphInput)\u001b[0m\n\u001b[1;32m     72\u001b[0m listOfNodes \u001b[39m=\u001b[39m []\n\u001b[1;32m     73\u001b[0m \u001b[39mfor\u001b[39;00m point \u001b[39min\u001b[39;00m listOfSampledPoints:\n\u001b[0;32m---> 74\u001b[0m     examine \u001b[39m=\u001b[39m graphInput\u001b[39m.\u001b[39;49mgetNearestNode((point\u001b[39m.\u001b[39;49mlat, point\u001b[39m.\u001b[39;49mlon))\n\u001b[1;32m     75\u001b[0m     \u001b[39mif\u001b[39;00m (\u001b[39mlen\u001b[39m(listOfNodes) \u001b[39m>\u001b[39m \u001b[39m0\u001b[39m \u001b[39mand\u001b[39;00m examine \u001b[39m!=\u001b[39m listOfNodes[\u001b[39m-\u001b[39m\u001b[39m1\u001b[39m]):\n\u001b[1;32m     76\u001b[0m         listOfNodes\u001b[39m.\u001b[39mappend(examine)\n",
      "File \u001b[0;32m/opt/homebrew/lib/python3.10/site-packages/yoGERT/NetworkGraph.py:65\u001b[0m, in \u001b[0;36mNetworkGraph.getNearestNode\u001b[0;34m(self, coord)\u001b[0m\n\u001b[1;32m     63\u001b[0m         \u001b[39mraise\u001b[39;00m OutOfBoundsCoordException\n\u001b[1;32m     64\u001b[0m     \u001b[39melse\u001b[39;00m:\n\u001b[0;32m---> 65\u001b[0m         \u001b[39mreturn\u001b[39;00m ox\u001b[39m.\u001b[39;49mnearest_nodes(\u001b[39mself\u001b[39;49m\u001b[39m.\u001b[39;49mgraph, coord[\u001b[39m1\u001b[39;49m], coord[\u001b[39m0\u001b[39;49m])\n\u001b[1;32m     66\u001b[0m \u001b[39mexcept\u001b[39;00m OutOfBoundsCoordException:\n\u001b[1;32m     67\u001b[0m     \u001b[39mprint\u001b[39m(\u001b[39m\"\u001b[39m\u001b[39mOutOfBoundsCoordException: Out of bounds input coordinate.\u001b[39m\u001b[39m\"\u001b[39m)\n",
      "File \u001b[0;32m/opt/homebrew/lib/python3.10/site-packages/osmnx/distance.py:204\u001b[0m, in \u001b[0;36mnearest_nodes\u001b[0;34m(G, X, Y, return_dist)\u001b[0m\n\u001b[1;32m    202\u001b[0m \u001b[39mif\u001b[39;00m np\u001b[39m.\u001b[39misnan(X)\u001b[39m.\u001b[39many() \u001b[39mor\u001b[39;00m np\u001b[39m.\u001b[39misnan(Y)\u001b[39m.\u001b[39many():  \u001b[39m# pragma: no cover\u001b[39;00m\n\u001b[1;32m    203\u001b[0m     \u001b[39mraise\u001b[39;00m \u001b[39mValueError\u001b[39;00m(\u001b[39m\"\u001b[39m\u001b[39m`X` and `Y` cannot contain nulls\u001b[39m\u001b[39m\"\u001b[39m)\n\u001b[0;32m--> 204\u001b[0m nodes \u001b[39m=\u001b[39m utils_graph\u001b[39m.\u001b[39;49mgraph_to_gdfs(G, edges\u001b[39m=\u001b[39;49m\u001b[39mFalse\u001b[39;49;00m, node_geometry\u001b[39m=\u001b[39;49m\u001b[39mFalse\u001b[39;49;00m)[[\u001b[39m\"\u001b[39m\u001b[39mx\u001b[39m\u001b[39m\"\u001b[39m, \u001b[39m\"\u001b[39m\u001b[39my\u001b[39m\u001b[39m\"\u001b[39m]]\n\u001b[1;32m    206\u001b[0m \u001b[39mif\u001b[39;00m projection\u001b[39m.\u001b[39mis_projected(G\u001b[39m.\u001b[39mgraph[\u001b[39m\"\u001b[39m\u001b[39mcrs\u001b[39m\u001b[39m\"\u001b[39m]):\n\u001b[1;32m    207\u001b[0m     \u001b[39m# if projected, use k-d tree for euclidean nearest-neighbor search\u001b[39;00m\n\u001b[1;32m    208\u001b[0m     \u001b[39mif\u001b[39;00m cKDTree \u001b[39mis\u001b[39;00m \u001b[39mNone\u001b[39;00m:  \u001b[39m# pragma: no cover\u001b[39;00m\n",
      "File \u001b[0;32m/opt/homebrew/lib/python3.10/site-packages/osmnx/utils_graph.py:56\u001b[0m, in \u001b[0;36mgraph_to_gdfs\u001b[0;34m(G, nodes, edges, node_geometry, fill_edge_geometry)\u001b[0m\n\u001b[1;32m     54\u001b[0m     gdf_nodes \u001b[39m=\u001b[39m gpd\u001b[39m.\u001b[39mGeoDataFrame(data, index\u001b[39m=\u001b[39mnodes, crs\u001b[39m=\u001b[39mcrs, geometry\u001b[39m=\u001b[39m\u001b[39mlist\u001b[39m(geom))\n\u001b[1;32m     55\u001b[0m \u001b[39melse\u001b[39;00m:\n\u001b[0;32m---> 56\u001b[0m     gdf_nodes \u001b[39m=\u001b[39m gpd\u001b[39m.\u001b[39;49mGeoDataFrame(data, index\u001b[39m=\u001b[39;49mnodes)\n\u001b[1;32m     58\u001b[0m gdf_nodes\u001b[39m.\u001b[39mindex\u001b[39m.\u001b[39mrename(\u001b[39m\"\u001b[39m\u001b[39mosmid\u001b[39m\u001b[39m\"\u001b[39m, inplace\u001b[39m=\u001b[39m\u001b[39mTrue\u001b[39;00m)\n\u001b[1;32m     59\u001b[0m utils\u001b[39m.\u001b[39mlog(\u001b[39m\"\u001b[39m\u001b[39mCreated nodes GeoDataFrame from graph\u001b[39m\u001b[39m\"\u001b[39m)\n",
      "File \u001b[0;32m/opt/homebrew/lib/python3.10/site-packages/geopandas/geodataframe.py:135\u001b[0m, in \u001b[0;36mGeoDataFrame.__init__\u001b[0;34m(self, data, geometry, crs, *args, **kwargs)\u001b[0m\n\u001b[1;32m    133\u001b[0m \u001b[39mdef\u001b[39;00m \u001b[39m__init__\u001b[39m(\u001b[39mself\u001b[39m, data\u001b[39m=\u001b[39m\u001b[39mNone\u001b[39;00m, \u001b[39m*\u001b[39margs, geometry\u001b[39m=\u001b[39m\u001b[39mNone\u001b[39;00m, crs\u001b[39m=\u001b[39m\u001b[39mNone\u001b[39;00m, \u001b[39m*\u001b[39m\u001b[39m*\u001b[39mkwargs):\n\u001b[1;32m    134\u001b[0m     \u001b[39mwith\u001b[39;00m compat\u001b[39m.\u001b[39mignore_shapely2_warnings():\n\u001b[0;32m--> 135\u001b[0m         \u001b[39msuper\u001b[39;49m()\u001b[39m.\u001b[39;49m\u001b[39m__init__\u001b[39;49m(data, \u001b[39m*\u001b[39;49margs, \u001b[39m*\u001b[39;49m\u001b[39m*\u001b[39;49mkwargs)\n\u001b[1;32m    137\u001b[0m     \u001b[39m# set_geometry ensures the geometry data have the proper dtype,\u001b[39;00m\n\u001b[1;32m    138\u001b[0m     \u001b[39m# but is not called if `geometry=None` ('geometry' column present\u001b[39;00m\n\u001b[1;32m    139\u001b[0m     \u001b[39m# in the data), so therefore need to ensure it here manually\u001b[39;00m\n\u001b[0;32m   (...)\u001b[0m\n\u001b[1;32m    143\u001b[0m \n\u001b[1;32m    144\u001b[0m     \u001b[39m# if gdf passed in and geo_col is set, we use that for geometry\u001b[39;00m\n\u001b[1;32m    145\u001b[0m     \u001b[39mif\u001b[39;00m geometry \u001b[39mis\u001b[39;00m \u001b[39mNone\u001b[39;00m \u001b[39mand\u001b[39;00m \u001b[39misinstance\u001b[39m(data, GeoDataFrame):\n",
      "File \u001b[0;32m/opt/homebrew/lib/python3.10/site-packages/pandas/core/frame.py:754\u001b[0m, in \u001b[0;36mDataFrame.__init__\u001b[0;34m(self, data, index, columns, dtype, copy)\u001b[0m\n\u001b[1;32m    745\u001b[0m         columns \u001b[39m=\u001b[39m ensure_index(columns)\n\u001b[1;32m    746\u001b[0m     arrays, columns, index \u001b[39m=\u001b[39m nested_data_to_arrays(\n\u001b[1;32m    747\u001b[0m         \u001b[39m# error: Argument 3 to \"nested_data_to_arrays\" has incompatible\u001b[39;00m\n\u001b[1;32m    748\u001b[0m         \u001b[39m# type \"Optional[Collection[Any]]\"; expected \"Optional[Index]\"\u001b[39;00m\n\u001b[0;32m   (...)\u001b[0m\n\u001b[1;32m    752\u001b[0m         dtype,\n\u001b[1;32m    753\u001b[0m     )\n\u001b[0;32m--> 754\u001b[0m     mgr \u001b[39m=\u001b[39m arrays_to_mgr(\n\u001b[1;32m    755\u001b[0m         arrays,\n\u001b[1;32m    756\u001b[0m         columns,\n\u001b[1;32m    757\u001b[0m         index,\n\u001b[1;32m    758\u001b[0m         dtype\u001b[39m=\u001b[39;49mdtype,\n\u001b[1;32m    759\u001b[0m         typ\u001b[39m=\u001b[39;49mmanager,\n\u001b[1;32m    760\u001b[0m     )\n\u001b[1;32m    761\u001b[0m \u001b[39melse\u001b[39;00m:\n\u001b[1;32m    762\u001b[0m     mgr \u001b[39m=\u001b[39m ndarray_to_mgr(\n\u001b[1;32m    763\u001b[0m         data,\n\u001b[1;32m    764\u001b[0m         index,\n\u001b[0;32m   (...)\u001b[0m\n\u001b[1;32m    768\u001b[0m         typ\u001b[39m=\u001b[39mmanager,\n\u001b[1;32m    769\u001b[0m     )\n",
      "File \u001b[0;32m/opt/homebrew/lib/python3.10/site-packages/pandas/core/internals/construction.py:120\u001b[0m, in \u001b[0;36marrays_to_mgr\u001b[0;34m(arrays, columns, index, dtype, verify_integrity, typ, consolidate)\u001b[0m\n\u001b[1;32m    118\u001b[0m     index \u001b[39m=\u001b[39m _extract_index(arrays)\n\u001b[1;32m    119\u001b[0m \u001b[39melse\u001b[39;00m:\n\u001b[0;32m--> 120\u001b[0m     index \u001b[39m=\u001b[39m ensure_index(index)\n\u001b[1;32m    122\u001b[0m \u001b[39m# don't force copy because getting jammed in an ndarray anyway\u001b[39;00m\n\u001b[1;32m    123\u001b[0m arrays \u001b[39m=\u001b[39m _homogenize(arrays, index, dtype)\n",
      "File \u001b[0;32m/opt/homebrew/lib/python3.10/site-packages/pandas/core/indexes/base.py:7333\u001b[0m, in \u001b[0;36mensure_index\u001b[0;34m(index_like, copy)\u001b[0m\n\u001b[1;32m   7331\u001b[0m         \u001b[39mreturn\u001b[39;00m Index\u001b[39m.\u001b[39m_with_infer(index_like, copy\u001b[39m=\u001b[39mcopy, tupleize_cols\u001b[39m=\u001b[39m\u001b[39mFalse\u001b[39;00m)\n\u001b[1;32m   7332\u001b[0m \u001b[39melse\u001b[39;00m:\n\u001b[0;32m-> 7333\u001b[0m     \u001b[39mreturn\u001b[39;00m Index\u001b[39m.\u001b[39;49m_with_infer(index_like, copy\u001b[39m=\u001b[39;49mcopy)\n",
      "File \u001b[0;32m/opt/homebrew/lib/python3.10/site-packages/pandas/core/indexes/base.py:716\u001b[0m, in \u001b[0;36mIndex._with_infer\u001b[0;34m(cls, *args, **kwargs)\u001b[0m\n\u001b[1;32m    714\u001b[0m \u001b[39mwith\u001b[39;00m warnings\u001b[39m.\u001b[39mcatch_warnings():\n\u001b[1;32m    715\u001b[0m     warnings\u001b[39m.\u001b[39mfilterwarnings(\u001b[39m\"\u001b[39m\u001b[39mignore\u001b[39m\u001b[39m\"\u001b[39m, \u001b[39m\"\u001b[39m\u001b[39m.*the Index constructor\u001b[39m\u001b[39m\"\u001b[39m, \u001b[39mFutureWarning\u001b[39;00m)\n\u001b[0;32m--> 716\u001b[0m     result \u001b[39m=\u001b[39m \u001b[39mcls\u001b[39;49m(\u001b[39m*\u001b[39;49margs, \u001b[39m*\u001b[39;49m\u001b[39m*\u001b[39;49mkwargs)\n\u001b[1;32m    718\u001b[0m \u001b[39mif\u001b[39;00m result\u001b[39m.\u001b[39mdtype \u001b[39m==\u001b[39m _dtype_obj \u001b[39mand\u001b[39;00m \u001b[39mnot\u001b[39;00m result\u001b[39m.\u001b[39m_is_multi:\n\u001b[1;32m    719\u001b[0m     \u001b[39m# error: Argument 1 to \"maybe_convert_objects\" has incompatible type\u001b[39;00m\n\u001b[1;32m    720\u001b[0m     \u001b[39m# \"Union[ExtensionArray, ndarray[Any, Any]]\"; expected\u001b[39;00m\n\u001b[1;32m    721\u001b[0m     \u001b[39m# \"ndarray[Any, Any]\"\u001b[39;00m\n\u001b[1;32m    722\u001b[0m     values \u001b[39m=\u001b[39m lib\u001b[39m.\u001b[39mmaybe_convert_objects(result\u001b[39m.\u001b[39m_values)  \u001b[39m# type: ignore[arg-type]\u001b[39;00m\n",
      "File \u001b[0;32m/opt/homebrew/lib/python3.10/site-packages/pandas/core/indexes/base.py:568\u001b[0m, in \u001b[0;36mIndex.__new__\u001b[0;34m(cls, data, dtype, copy, name, tupleize_cols, **kwargs)\u001b[0m\n\u001b[1;32m    565\u001b[0m subarr \u001b[39m=\u001b[39m com\u001b[39m.\u001b[39masarray_tuplesafe(data, dtype\u001b[39m=\u001b[39m_dtype_obj)\n\u001b[1;32m    566\u001b[0m \u001b[39mif\u001b[39;00m dtype \u001b[39mis\u001b[39;00m \u001b[39mNone\u001b[39;00m:\n\u001b[1;32m    567\u001b[0m     \u001b[39m# with e.g. a list [1, 2, 3] casting to numeric is _not_ deprecated\u001b[39;00m\n\u001b[0;32m--> 568\u001b[0m     subarr \u001b[39m=\u001b[39m _maybe_cast_data_without_dtype(\n\u001b[1;32m    569\u001b[0m         subarr, cast_numeric_deprecated\u001b[39m=\u001b[39;49m\u001b[39mFalse\u001b[39;49;00m\n\u001b[1;32m    570\u001b[0m     )\n\u001b[1;32m    571\u001b[0m     dtype \u001b[39m=\u001b[39m subarr\u001b[39m.\u001b[39mdtype\n\u001b[1;32m    572\u001b[0m \u001b[39mreturn\u001b[39;00m Index(subarr, dtype\u001b[39m=\u001b[39mdtype, copy\u001b[39m=\u001b[39mcopy, name\u001b[39m=\u001b[39mname, \u001b[39m*\u001b[39m\u001b[39m*\u001b[39mkwargs)\n",
      "File \u001b[0;32m/opt/homebrew/lib/python3.10/site-packages/pandas/core/indexes/base.py:7414\u001b[0m, in \u001b[0;36m_maybe_cast_data_without_dtype\u001b[0;34m(subarr, cast_numeric_deprecated)\u001b[0m\n\u001b[1;32m   7396\u001b[0m \u001b[39mdef\u001b[39;00m \u001b[39m_maybe_cast_data_without_dtype\u001b[39m(\n\u001b[1;32m   7397\u001b[0m     subarr: np\u001b[39m.\u001b[39mndarray, cast_numeric_deprecated: \u001b[39mbool\u001b[39m \u001b[39m=\u001b[39m \u001b[39mTrue\u001b[39;00m\n\u001b[1;32m   7398\u001b[0m ) \u001b[39m-\u001b[39m\u001b[39m>\u001b[39m ArrayLike:\n\u001b[1;32m   7399\u001b[0m \u001b[39m    \u001b[39m\u001b[39m\"\"\"\u001b[39;00m\n\u001b[1;32m   7400\u001b[0m \u001b[39m    If we have an arraylike input but no passed dtype, try to infer\u001b[39;00m\n\u001b[1;32m   7401\u001b[0m \u001b[39m    a supported dtype.\u001b[39;00m\n\u001b[0;32m   (...)\u001b[0m\n\u001b[1;32m   7411\u001b[0m \u001b[39m    np.ndarray or ExtensionArray\u001b[39;00m\n\u001b[1;32m   7412\u001b[0m \u001b[39m    \"\"\"\u001b[39;00m\n\u001b[0;32m-> 7414\u001b[0m     result \u001b[39m=\u001b[39m lib\u001b[39m.\u001b[39;49mmaybe_convert_objects(\n\u001b[1;32m   7415\u001b[0m         subarr,\n\u001b[1;32m   7416\u001b[0m         convert_datetime\u001b[39m=\u001b[39;49m\u001b[39mTrue\u001b[39;49;00m,\n\u001b[1;32m   7417\u001b[0m         convert_timedelta\u001b[39m=\u001b[39;49m\u001b[39mTrue\u001b[39;49;00m,\n\u001b[1;32m   7418\u001b[0m         convert_period\u001b[39m=\u001b[39;49m\u001b[39mTrue\u001b[39;49;00m,\n\u001b[1;32m   7419\u001b[0m         convert_interval\u001b[39m=\u001b[39;49m\u001b[39mTrue\u001b[39;49;00m,\n\u001b[1;32m   7420\u001b[0m         dtype_if_all_nat\u001b[39m=\u001b[39;49mnp\u001b[39m.\u001b[39;49mdtype(\u001b[39m\"\u001b[39;49m\u001b[39mdatetime64[ns]\u001b[39;49m\u001b[39m\"\u001b[39;49m),\n\u001b[1;32m   7421\u001b[0m     )\n\u001b[1;32m   7422\u001b[0m     \u001b[39mif\u001b[39;00m result\u001b[39m.\u001b[39mdtype\u001b[39m.\u001b[39mkind \u001b[39min\u001b[39;00m [\u001b[39m\"\u001b[39m\u001b[39mi\u001b[39m\u001b[39m\"\u001b[39m, \u001b[39m\"\u001b[39m\u001b[39mu\u001b[39m\u001b[39m\"\u001b[39m, \u001b[39m\"\u001b[39m\u001b[39mf\u001b[39m\u001b[39m\"\u001b[39m]:\n\u001b[1;32m   7423\u001b[0m         \u001b[39mif\u001b[39;00m \u001b[39mnot\u001b[39;00m cast_numeric_deprecated:\n\u001b[1;32m   7424\u001b[0m             \u001b[39m# i.e. we started with a list, not an ndarray[object]\u001b[39;00m\n",
      "\u001b[0;31mKeyboardInterrupt\u001b[0m: "
     ]
    }
   ],
   "source": [
    "# Shortest Route based on Episodes\n",
    "episodePath = \"/Users/tommylw/Desktop/University/SE_4G06/Capstone-yoGERT/src/trace/trace0/episode/1_episode.csv\"\n",
    "network = NetworkGraph(episodePath,\"drive\")\n",
    "shortestEpisodeRoute = ShortestRouteEpisode(network,episodePath)\n",
    "\n",
    "# Mapping\n",
    "exportMapPath = \"/Users/tommylw/Desktop/University/SE_4G06/Capstone-yoGERT/src/trace/trace0/shortest_episode.html\"\n",
    "MapRoute(network,shortestEpisodeRoute,exportMapPath)"
   ]
  },
  {
   "cell_type": "code",
   "execution_count": 11,
   "metadata": {},
   "outputs": [
    {
     "name": "stdout",
     "output_type": "stream",
     "text": [
      "File is converted to Point type objects\n",
      "\n",
      "Network Graph was successfully created!\n",
      "File is converted to Point type objects\n",
      "\n",
      "Shortest Route Trace was created successfully\n",
      "Route was mapped successfully and saved at /Users/tommylw/Desktop/University/SE_4G06/Capstone-yoGERT/src/trace/trace0/shortest_trace.html\n"
     ]
    },
    {
     "data": {
      "text/plain": [
       "True"
      ]
     },
     "execution_count": 11,
     "metadata": {},
     "output_type": "execute_result"
    }
   ],
   "source": [
    "# Shortest Route based on Trace points\n",
    "tracePath = \"/Users/tommylw/Desktop/University/SE_4G06/Capstone-yoGERT/src/trace/trace0/trace.csv\"\n",
    "network = NetworkGraph(tracePath,\"drive\",False)\n",
    "shortestTraceRoute = ShortestRouteTrace(network,tracePath)\n",
    "\n",
    "# Mapping\n",
    "exportMapPath = \"/Users/tommylw/Desktop/University/SE_4G06/Capstone-yoGERT/src/trace/trace0/shortest_trace.html\"\n",
    "MapRoute(network,shortestTraceRoute,exportMapPath)"
   ]
  },
  {
   "cell_type": "code",
   "execution_count": 12,
   "metadata": {},
   "outputs": [
    {
     "name": "stdout",
     "output_type": "stream",
     "text": [
      "File is converted to Point type objects\n",
      "\n",
      "Network Graph was successfully created!\n",
      "File is converted to Point type objects\n",
      "\n",
      "Shortest Route Trace was created successfully\n",
      "Alternative Route was successfully created!\n"
     ]
    }
   ],
   "source": [
    "# Alternative Route\n",
    "tracePath = \"/Users/tommylw/Desktop/University/SE_4G06/Capstone-yoGERT/src/trace/trace0/trace.csv\"\n",
    "alternativeRoute = AlternativeRoute(tracePath)\n",
    "\n",
    "# Mapping\n",
    "exportMapPath = \"/Users/tommylw/Desktop/University/SE_4G06/Capstone-yoGERT/src/trace/trace0/alternative_route.html\"\n",
    "MapRoute(alternativeRoute.network,alternativeRoute.path,exportMapPath)"
   ]
  }
 ],
 "metadata": {
  "kernelspec": {
   "display_name": "Python 3",
   "language": "python",
   "name": "python3"
  },
  "language_info": {
   "codemirror_mode": {
    "name": "ipython",
    "version": 3
   },
   "file_extension": ".py",
   "mimetype": "text/x-python",
   "name": "python",
   "nbconvert_exporter": "python",
   "pygments_lexer": "ipython3",
   "version": "3.10.9"
  },
  "orig_nbformat": 4
 },
 "nbformat": 4,
 "nbformat_minor": 2
}
