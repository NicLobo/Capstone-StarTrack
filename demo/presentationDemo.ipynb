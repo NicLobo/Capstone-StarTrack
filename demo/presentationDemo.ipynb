{
 "cells": [
  {
   "cell_type": "code",
   "execution_count": 4,
   "metadata": {},
   "outputs": [],
   "source": [
    "from yoGERT.PreProcessing import Validate_CSV\n",
    "from yoGERT.EpisodeGeneration import episodeGenerator\n",
    "from yoGERT.FetchActivityLocations import FetchActivityLocations\n",
    "from yoGERT.ShortestRoute import ShortestRoute\n",
    "from yoGERT.ShortestRouteEpisode import ShortestRouteEpisode\n",
    "from yoGERT.ShortestRouteStop import ShortestRouteStop\n",
    "from yoGERT.ShortestRouteTrace import ShortestRouteTrace\n",
    "from yoGERT.AlternativeRoute import AlternativeRoute\n",
    "from yoGERT.NetworkGraph import NetworkGraph\n",
    "from yoGERT.Mapping import MapEpisodePoints, MapActivityLocation, MapRoute\n",
    "#from yoGERT.Transformation import *\n"
   ]
  },
  {
   "cell_type": "code",
   "execution_count": 5,
   "metadata": {},
   "outputs": [
    {
     "data": {
      "text/plain": [
       "('/Users/tommylw/Desktop/University/SE_4G06/Capstone-yoGERT/src/demoProcessed/trace0.csv',\n",
       " True)"
      ]
     },
     "execution_count": 5,
     "metadata": {},
     "output_type": "execute_result"
    }
   ],
   "source": [
    "# Preprocessing\n",
    "#csvPath = \"/Users/tommylw/Desktop/University/SE_4G06/Capstone-yoGERT/src/exampleDataset/trace_1.csv\"\n",
    "csvPath = \"/Users/tommylw/Desktop/University/SE_4G06/Capstone-yoGERT/src/exampleDataset/finalDemo.csv\"\n",
    "#exportPath = \"/Users/tommylw/Desktop/University/SE_4G06/Capstone-yoGERT/src/processedOutput/\"\n",
    "exportPath = \"/Users/tommylw/Desktop/University/SE_4G06/Capstone-yoGERT/src/demoProcessed/\"\n",
    "\n",
    "Validate_CSV(csvPath, exportPath)"
   ]
  },
  {
   "cell_type": "code",
   "execution_count": 6,
   "metadata": {},
   "outputs": [
    {
     "name": "stdout",
     "output_type": "stream",
     "text": [
      "Trace folder created \n",
      "Trace.csv created\n",
      "Segments csv created\n",
      "Stop folder created \n",
      "Stops.csv created\n",
      "Stops csv filtered with distance tolerance of 60 time tolerance of60\n",
      "Episode folder created \n",
      "mode.WALK\n",
      "mode.WALK\n",
      "mode.WALK\n",
      "mode.WALK\n",
      "mode.WALK\n",
      "mode.DRIVE\n",
      "Summarymodes.csv created successfully\n",
      "Episodes generated successfully\n"
     ]
    },
    {
     "name": "stderr",
     "output_type": "stream",
     "text": [
      "/opt/homebrew/lib/python3.10/site-packages/yoGERT/EpisodeGeneration.py:258: SettingWithCopyWarning: \n",
      "A value is trying to be set on a copy of a slice from a DataFrame.\n",
      "Try using .loc[row_indexer,col_indexer] = value instead\n",
      "\n",
      "See the caveats in the documentation: https://pandas.pydata.org/pandas-docs/stable/user_guide/indexing.html#returning-a-view-versus-a-copy\n",
      "  newepisode[\"mode\"] = finalmode\n"
     ]
    }
   ],
   "source": [
    "# EpisodeGeneration\n",
    "#csvPath = \"/Users/tommylw/Desktop/University/SE_4G06/Capstone-yoGERT/src/processedOutput/trace0.csv\"\n",
    "csvPath = \"/Users/tommylw/Desktop/University/SE_4G06/Capstone-yoGERT/src/demoProcessed/trace0.csv\"\n",
    "dirPath = \"/Users/tommylw/Desktop/University/SE_4G06/Capstone-yoGERT/src/trace\"\n",
    "\n",
    "episodeGenerator(csvPath,dirPath,\"demoTrace\")"
   ]
  },
  {
   "cell_type": "code",
   "execution_count": 7,
   "metadata": {},
   "outputs": [
    {
     "name": "stdout",
     "output_type": "stream",
     "text": [
      "File is converted to Point type objects\n",
      "\n",
      "Episodes were mapped successfully and saved at /Users/tommylw/Desktop/University/SE_4G06/Capstone-yoGERT/src/trace/demoTrace/episode/2_episode_map.html\n"
     ]
    },
    {
     "data": {
      "text/plain": [
       "True"
      ]
     },
     "execution_count": 7,
     "metadata": {},
     "output_type": "execute_result"
    }
   ],
   "source": [
    "# Mapping Episodes\n",
    "#episodePath = \"/Users/tommylw/Desktop/University/SE_4G06/Capstone-yoGERT/src/trace/trace0/episode/3_episode.csv\"\n",
    "episodePath = \"/Users/tommylw/Desktop/University/SE_4G06/Capstone-yoGERT/src/trace/demoTrace/episode/2_episode.csv\"\n",
    "#exportMapPath = \"/Users/tommylw/Desktop/University/SE_4G06/Capstone-yoGERT/src/trace/trace0/episode_points.html\"\n",
    "exportMapPath = \"/Users/tommylw/Desktop/University/SE_4G06/Capstone-yoGERT/src/trace/demoTrace/episode/2_episode_map.html\"\n",
    "MapEpisodePoints(episodePath,exportMapPath)"
   ]
  },
  {
   "cell_type": "code",
   "execution_count": 8,
   "metadata": {},
   "outputs": [
    {
     "name": "stdout",
     "output_type": "stream",
     "text": [
      "File is converted to Point type objects\n",
      "\n",
      "activity location objects tuples into a list with their class attributes is returned\n",
      "\n",
      "Activity Locations were fetched successfully and saved at /Users/tommylw/Desktop/University/SE_4G06/Capstone-yoGERT/src/trace/demoTrace/stop/activity_location.csv\n",
      "Try Convert.\n",
      "Test Open().\n",
      "Hello there\n",
      "an activity location object is returned\n",
      "\n",
      "Hello there\n",
      "an activity location object is returned\n",
      "\n",
      "Hello there\n",
      "an activity location object is returned\n",
      "\n",
      "Hello there\n",
      "an activity location object is returned\n",
      "\n",
      "Hello there\n",
      "an activity location object is returned\n",
      "\n",
      "Hello there\n",
      "an activity location object is returned\n",
      "\n",
      "Hello there\n",
      "an activity location object is returned\n",
      "\n",
      "Hello there\n",
      "an activity location object is returned\n",
      "\n",
      "Hello there\n",
      "an activity location object is returned\n",
      "\n",
      "Hello there\n",
      "an activity location object is returned\n",
      "\n",
      "Hello there\n",
      "an activity location object is returned\n",
      "\n",
      "Hello there\n",
      "an activity location object is returned\n",
      "\n",
      "Hello there\n",
      "an activity location object is returned\n",
      "\n",
      "Hello there\n",
      "an activity location object is returned\n",
      "\n",
      "Hello there\n",
      "an activity location object is returned\n",
      "\n",
      "Hello there\n",
      "an activity location object is returned\n",
      "\n",
      "Hello there\n",
      "an activity location object is returned\n",
      "\n",
      "Hello there\n",
      "an activity location object is returned\n",
      "\n",
      "Hello there\n",
      "an activity location object is returned\n",
      "\n",
      "Hello there\n",
      "an activity location object is returned\n",
      "\n",
      "Hello there\n",
      "an activity location object is returned\n",
      "\n",
      "Hello there\n",
      "an activity location object is returned\n",
      "\n",
      "Hello there\n",
      "an activity location object is returned\n",
      "\n",
      "Hello there\n",
      "an activity location object is returned\n",
      "\n",
      "Hello there\n",
      "an activity location object is returned\n",
      "\n",
      "Hello there\n",
      "an activity location object is returned\n",
      "\n",
      "Hello there\n",
      "an activity location object is returned\n",
      "\n",
      "Hello there\n",
      "an activity location object is returned\n",
      "\n",
      "Hello there\n",
      "an activity location object is returned\n",
      "\n",
      "Hello there\n",
      "an activity location object is returned\n",
      "\n",
      "Hello there\n",
      "an activity location object is returned\n",
      "\n",
      "Hello there\n",
      "an activity location object is returned\n",
      "\n",
      "Hello there\n",
      "an activity location object is returned\n",
      "\n",
      "Hello there\n",
      "an activity location object is returned\n",
      "\n",
      "Hello there\n",
      "an activity location object is returned\n",
      "\n",
      "Hello there\n",
      "an activity location object is returned\n",
      "\n",
      "Hello there\n",
      "an activity location object is returned\n",
      "\n",
      "Hello there\n",
      "an activity location object is returned\n",
      "\n",
      "Hello there\n",
      "an activity location object is returned\n",
      "\n",
      "Hello there\n",
      "an activity location object is returned\n",
      "\n",
      "Hello there\n",
      "an activity location object is returned\n",
      "\n",
      "Hello there\n",
      "an activity location object is returned\n",
      "\n",
      "Hello there\n",
      "an activity location object is returned\n",
      "\n",
      "Hello there\n",
      "an activity location object is returned\n",
      "\n",
      "Hello there\n",
      "an activity location object is returned\n",
      "\n",
      "Hello there\n",
      "an activity location object is returned\n",
      "\n",
      "Hello there\n",
      "an activity location object is returned\n",
      "\n",
      "Hello there\n",
      "an activity location object is returned\n",
      "\n",
      "Hello there\n",
      "an activity location object is returned\n",
      "\n",
      "Hello there\n",
      "an activity location object is returned\n",
      "\n",
      "Hello there\n",
      "an activity location object is returned\n",
      "\n",
      "Hello there\n",
      "an activity location object is returned\n",
      "\n",
      "list of activity location objects returned\n",
      "\n",
      "File is converted to Point type objects\n",
      "\n",
      "Activity locations was mapped successfully and saved at /Users/tommylw/Desktop/University/SE_4G06/Capstone-yoGERT/src/trace/demoTrace/stop/activity_location.html\n"
     ]
    },
    {
     "data": {
      "text/plain": [
       "True"
      ]
     },
     "execution_count": 8,
     "metadata": {},
     "output_type": "execute_result"
    }
   ],
   "source": [
    "# Find Activity Location\n",
    "#stopPath = \"/Users/tommylw/Desktop/University/SE_4G06/Capstone-yoGERT/src/trace/trace0/stop/stops.csv\"\n",
    "stopPath = \"/Users/tommylw/Desktop/University/SE_4G06/Capstone-yoGERT/src/trace/demoTrace/stop/stops.csv\"\n",
    "#storedPath = \"/Users/tommylw/Desktop/University/SE_4G06/Capstone-yoGERT/src/trace/trace0/stop/actLocation.csv\"\n",
    "storedPath = \"/Users/tommylw/Desktop/University/SE_4G06/Capstone-yoGERT/src/trace/demoTrace/stop/activity_location.csv\"\n",
    "FetchActivityLocations(stopPath,storedPath,500)\n",
    "\n",
    "# Mapping\n",
    "#exportMapPath = \"/Users/tommylw/Desktop/University/SE_4G06/Capstone-yoGERT/src/trace/trace0/stop/activity_location.html\"\n",
    "exportMapPath = \"/Users/tommylw/Desktop/University/SE_4G06/Capstone-yoGERT/src/trace/demoTrace/stop/activity_location.html\"\n",
    "MapActivityLocation(storedPath,stopPath,exportMapPath)"
   ]
  },
  {
   "cell_type": "code",
   "execution_count": 9,
   "metadata": {},
   "outputs": [
    {
     "name": "stdout",
     "output_type": "stream",
     "text": [
      "File is converted to Point type objects\n",
      "\n",
      "Network Graph was successfully created!\n",
      "File is converted to Point type objects\n",
      "\n",
      "Shortest Route Stop was created successfully\n",
      "Route was mapped successfully and saved at /Users/tommylw/Desktop/University/SE_4G06/Capstone-yoGERT/src/trace/demoTrace/shortest_route_stops.html\n"
     ]
    },
    {
     "data": {
      "text/plain": [
       "True"
      ]
     },
     "execution_count": 9,
     "metadata": {},
     "output_type": "execute_result"
    }
   ],
   "source": [
    "# Shortest Route based on Stop points\n",
    "#stopPath = \"/Users/tommylw/Desktop/University/SE_4G06/Capstone-yoGERT/src/trace/trace0/stop/stops.csv\"\n",
    "stopPath = \"/Users/tommylw/Desktop/University/SE_4G06/Capstone-yoGERT/src/trace/demoTrace/stop/stops.csv\"\n",
    "#tracePath = \"/Users/tommylw/Desktop/University/SE_4G06/Capstone-yoGERT/src/trace/trace0/trace.csv\"\n",
    "tracePath = \"/Users/tommylw/Desktop/University/SE_4G06/Capstone-yoGERT/src/trace/demoTrace/trace.csv\"\n",
    "network = NetworkGraph(tracePath, \"drive\", False)\n",
    "shortestStopRoute = ShortestRouteStop(network,stopPath)\n",
    "\n",
    "# Mapping\n",
    "#exportMapPath = \"/Users/tommylw/Desktop/University/SE_4G06/Capstone-yoGERT/src/trace/trace0/shortest_stops.html\"\n",
    "exportMapPath = \"/Users/tommylw/Desktop/University/SE_4G06/Capstone-yoGERT/src/trace/demoTrace/shortest_route_stops.html\"\n",
    "MapRoute(network,shortestStopRoute,exportMapPath)\n"
   ]
  },
  {
   "cell_type": "code",
   "execution_count": 10,
   "metadata": {},
   "outputs": [
    {
     "name": "stdout",
     "output_type": "stream",
     "text": [
      "File is converted to Point type objects\n",
      "\n",
      "Network Graph was successfully created!\n",
      "File is converted to Point type objects\n",
      "\n",
      "Shortest Route Episode was successfully created!\n",
      "Route was mapped successfully and saved at /Users/tommylw/Desktop/University/SE_4G06/Capstone-yoGERT/src/trace/demoTrace/shortest_route_2_episode.html\n"
     ]
    },
    {
     "data": {
      "text/plain": [
       "True"
      ]
     },
     "execution_count": 10,
     "metadata": {},
     "output_type": "execute_result"
    }
   ],
   "source": [
    "# Shortest Route based on Episodes\n",
    "#episodePath = \"/Users/tommylw/Desktop/University/SE_4G06/Capstone-yoGERT/src/trace/trace0/episode/1_episode.csv\"\n",
    "episodePath = \"/Users/tommylw/Desktop/University/SE_4G06/Capstone-yoGERT/src/trace/demoTrace/episode/2_episode.csv\"\n",
    "network = NetworkGraph(episodePath,\"drive\")\n",
    "shortestEpisodeRoute = ShortestRouteEpisode(network,episodePath)\n",
    "\n",
    "# Mapping\n",
    "#exportMapPath = \"/Users/tommylw/Desktop/University/SE_4G06/Capstone-yoGERT/src/trace/trace0/shortest_episode.html\"\n",
    "exportMapPath = \"/Users/tommylw/Desktop/University/SE_4G06/Capstone-yoGERT/src/trace/demoTrace/shortest_route_2_episode.html\"\n",
    "MapRoute(network,shortestEpisodeRoute,exportMapPath)"
   ]
  },
  {
   "cell_type": "code",
   "execution_count": 11,
   "metadata": {},
   "outputs": [
    {
     "name": "stdout",
     "output_type": "stream",
     "text": [
      "File is converted to Point type objects\n",
      "\n",
      "Network Graph was successfully created!\n",
      "File is converted to Point type objects\n",
      "\n",
      "Shortest Route Trace was created successfully\n",
      "Route was mapped successfully and saved at /Users/tommylw/Desktop/University/SE_4G06/Capstone-yoGERT/src/trace/demoTrace/shortest_route_trace.html\n"
     ]
    },
    {
     "data": {
      "text/plain": [
       "True"
      ]
     },
     "execution_count": 11,
     "metadata": {},
     "output_type": "execute_result"
    }
   ],
   "source": [
    "# Shortest Route based on Trace points\n",
    "#tracePath = \"/Users/tommylw/Desktop/University/SE_4G06/Capstone-yoGERT/src/trace/trace0/trace.csv\"\n",
    "tracePath = \"/Users/tommylw/Desktop/University/SE_4G06/Capstone-yoGERT/src/trace/demoTrace/trace.csv\"\n",
    "network = NetworkGraph(tracePath,\"drive\",False)\n",
    "shortestTraceRoute = ShortestRouteTrace(network,tracePath)\n",
    "\n",
    "# Mapping\n",
    "#exportMapPath = \"/Users/tommylw/Desktop/University/SE_4G06/Capstone-yoGERT/src/trace/trace0/shortest_trace.html\"\n",
    "exportMapPath = \"/Users/tommylw/Desktop/University/SE_4G06/Capstone-yoGERT/src/trace/demoTrace/shortest_route_trace.html\"\n",
    "MapRoute(network,shortestTraceRoute,exportMapPath)"
   ]
  },
  {
   "cell_type": "code",
   "execution_count": 12,
   "metadata": {},
   "outputs": [
    {
     "name": "stdout",
     "output_type": "stream",
     "text": [
      "File is converted to Point type objects\n",
      "\n",
      "Network Graph was successfully created!\n",
      "File is converted to Point type objects\n",
      "\n",
      "NetworkXNoPath: No Path Here:(\n",
      "NetworkXNoPath: No Path Here:(\n",
      "Shortest Route Trace was created successfully\n",
      "Alternative Route was successfully created!\n",
      "Route was mapped successfully and saved at /Users/tommylw/Desktop/University/SE_4G06/Capstone-yoGERT/src/trace/demoTrace/alternative_route.html\n"
     ]
    },
    {
     "data": {
      "text/plain": [
       "True"
      ]
     },
     "execution_count": 12,
     "metadata": {},
     "output_type": "execute_result"
    }
   ],
   "source": [
    "# Alternative Route\n",
    "#tracePath = \"/Users/tommylw/Desktop/University/SE_4G06/Capstone-yoGERT/src/trace/trace0/trace.csv\"\n",
    "tracePath = \"/Users/tommylw/Desktop/University/SE_4G06/Capstone-yoGERT/src/trace/demoTrace/trace.csv\"\n",
    "alternativeRoute = AlternativeRoute(tracePath)\n",
    "\n",
    "# Mapping\n",
    "#exportMapPath = \"/Users/tommylw/Desktop/University/SE_4G06/Capstone-yoGERT/src/trace/trace0/alternative_route.html\"\n",
    "exportMapPath = \"/Users/tommylw/Desktop/University/SE_4G06/Capstone-yoGERT/src/trace/demoTrace/alternative_route.html\"\n",
    "MapRoute(alternativeRoute.network,alternativeRoute.path,exportMapPath)"
   ]
  }
 ],
 "metadata": {
  "kernelspec": {
   "display_name": "Python 3",
   "language": "python",
   "name": "python3"
  },
  "language_info": {
   "codemirror_mode": {
    "name": "ipython",
    "version": 3
   },
   "file_extension": ".py",
   "mimetype": "text/x-python",
   "name": "python",
   "nbconvert_exporter": "python",
   "pygments_lexer": "ipython3",
   "version": "3.10.9"
  },
  "orig_nbformat": 4
 },
 "nbformat": 4,
 "nbformat_minor": 2
}
