{
 "cells": [
  {
   "cell_type": "code",
   "execution_count": 13,
   "metadata": {},
   "outputs": [
    {
     "ename": "ImportError",
     "evalue": "attempted relative import with no known parent package",
     "output_type": "error",
     "traceback": [
      "\u001b[0;31m---------------------------------------------------------------------------\u001b[0m",
      "\u001b[0;31mImportError\u001b[0m                               Traceback (most recent call last)",
      "Cell \u001b[0;32mIn[13], line 4\u001b[0m\n\u001b[1;32m      2\u001b[0m \u001b[39mfrom\u001b[39;00m \u001b[39myoGERT\u001b[39;00m\u001b[39m.\u001b[39;00m\u001b[39mEpisodeGeneration\u001b[39;00m \u001b[39mimport\u001b[39;00m episodeGenerator\n\u001b[1;32m      3\u001b[0m \u001b[39mfrom\u001b[39;00m \u001b[39myoGERT\u001b[39;00m\u001b[39m.\u001b[39;00m\u001b[39mFetchActivityLocations\u001b[39;00m \u001b[39mimport\u001b[39;00m FetchActivityLocations\n\u001b[0;32m----> 4\u001b[0m \u001b[39mfrom\u001b[39;00m \u001b[39myoGERT\u001b[39;00m\u001b[39m.\u001b[39;00m\u001b[39mMapping\u001b[39;00m \u001b[39mimport\u001b[39;00m MapEpisodePoints, MapActivityLocation, MapRoute\n\u001b[1;32m      5\u001b[0m \u001b[39mfrom\u001b[39;00m \u001b[39myoGERT\u001b[39;00m\u001b[39m.\u001b[39;00m\u001b[39mTransformation\u001b[39;00m \u001b[39mimport\u001b[39;00m \u001b[39m*\u001b[39m\n",
      "File \u001b[0;32m/opt/homebrew/lib/python3.10/site-packages/yoGERT/Mapping.py:9\u001b[0m\n\u001b[1;32m      7\u001b[0m \u001b[39mimport\u001b[39;00m \u001b[39mnetworkx\u001b[39;00m \u001b[39mas\u001b[39;00m \u001b[39mnx\u001b[39;00m\n\u001b[1;32m      8\u001b[0m \u001b[39mimport\u001b[39;00m \u001b[39mh3\u001b[39;00m\n\u001b[0;32m----> 9\u001b[0m \u001b[39mimport\u001b[39;00m \u001b[39mNetworkGraph\u001b[39;00m\n\u001b[1;32m     10\u001b[0m \u001b[39mfrom\u001b[39;00m \u001b[39m.\u001b[39;00m\u001b[39mShortestRouteEpisode\u001b[39;00m \u001b[39mimport\u001b[39;00m \u001b[39m*\u001b[39m\n\u001b[1;32m     11\u001b[0m \u001b[39mfrom\u001b[39;00m \u001b[39m.\u001b[39;00m\u001b[39mShortestRouteTrace\u001b[39;00m \u001b[39mimport\u001b[39;00m \u001b[39m*\u001b[39m\n",
      "File \u001b[0;32m/opt/homebrew/lib/python3.10/site-packages/yoGERT/NetworkGraph.py:8\u001b[0m\n\u001b[1;32m      6\u001b[0m \u001b[39mimport\u001b[39;00m \u001b[39mosmnx\u001b[39;00m \u001b[39mas\u001b[39;00m \u001b[39mox\u001b[39;00m\n\u001b[1;32m      7\u001b[0m \u001b[39mimport\u001b[39;00m \u001b[39mh3\u001b[39;00m\n\u001b[0;32m----> 8\u001b[0m \u001b[39mfrom\u001b[39;00m \u001b[39m.\u001b[39;00m\u001b[39mCustomExceptions\u001b[39;00m \u001b[39mimport\u001b[39;00m \u001b[39m*\u001b[39m\n\u001b[1;32m      9\u001b[0m \u001b[39mfrom\u001b[39;00m \u001b[39m.\u001b[39;00m\u001b[39mPoint\u001b[39;00m \u001b[39mimport\u001b[39;00m \u001b[39m*\u001b[39m\n\u001b[1;32m     10\u001b[0m \u001b[39mfrom\u001b[39;00m \u001b[39m.\u001b[39;00m\u001b[39mTransformation\u001b[39;00m \u001b[39mimport\u001b[39;00m \u001b[39m*\u001b[39m\n",
      "\u001b[0;31mImportError\u001b[0m: attempted relative import with no known parent package"
     ]
    }
   ],
   "source": [
    "from yoGERT.PreProcessing import Validate_CSV\n",
    "from yoGERT.EpisodeGeneration import episodeGenerator\n",
    "from yoGERT.FetchActivityLocations import FetchActivityLocations\n",
    "from yoGERT.Mapping import MapEpisodePoints, MapActivityLocation, MapRoute\n",
    "from yoGERT.Transformation import *\n"
   ]
  },
  {
   "cell_type": "code",
   "execution_count": 4,
   "metadata": {},
   "outputs": [
    {
     "name": "stdout",
     "output_type": "stream",
     "text": [
      "Success: Your processed file(s) now reside in: /Users/tommylw/Desktop/University/SE_4G06/Capstone-yoGERT/src/processedOutput\n"
     ]
    },
    {
     "data": {
      "text/plain": [
       "('/Users/tommylw/Desktop/University/SE_4G06/Capstone-yoGERT/src/processedOutput',\n",
       " True)"
      ]
     },
     "execution_count": 4,
     "metadata": {},
     "output_type": "execute_result"
    }
   ],
   "source": [
    "# Preprocessing\n",
    "csvPath = \"/Users/tommylw/Desktop/University/SE_4G06/Capstone-yoGERT/src/exampleDataset/trace_1.csv\"\n",
    "exportPath = \"/Users/tommylw/Desktop/University/SE_4G06/Capstone-yoGERT/src/processedOutput/\"\n",
    "\n",
    "Validate_CSV(csvPath, exportPath)"
   ]
  },
  {
   "cell_type": "code",
   "execution_count": 6,
   "metadata": {},
   "outputs": [
    {
     "name": "stdout",
     "output_type": "stream",
     "text": [
      "Trace folder created \n",
      "Trace.csv created\n",
      "Segments csv created\n",
      "Stop folder created \n",
      "Stops.csv created\n",
      "Stops csv filtered with distance tolerance of 60 time tolerance of60\n",
      "Episode folder created \n",
      "mode.DRIVE\n",
      "mode.DRIVE\n",
      "mode.DRIVE\n",
      "Summarymodes.csv created successfully\n",
      "Episodes generated successfully\n"
     ]
    },
    {
     "name": "stderr",
     "output_type": "stream",
     "text": [
      "/opt/homebrew/lib/python3.10/site-packages/yoGERT/EpisodeGeneration.py:258: SettingWithCopyWarning: \n",
      "A value is trying to be set on a copy of a slice from a DataFrame.\n",
      "Try using .loc[row_indexer,col_indexer] = value instead\n",
      "\n",
      "See the caveats in the documentation: https://pandas.pydata.org/pandas-docs/stable/user_guide/indexing.html#returning-a-view-versus-a-copy\n",
      "  newepisode[\"mode\"] = finalmode\n"
     ]
    }
   ],
   "source": [
    "# EpisodeGeneration\n",
    "csvPath = \"/Users/tommylw/Desktop/University/SE_4G06/Capstone-yoGERT/src/processedOutput/trace0.csv\"\n",
    "dirPath = \"/Users/tommylw/Desktop/University/SE_4G06/Capstone-yoGERT/src/trace\"\n",
    "\n",
    "episodeGenerator(csvPath,dirPath,\"trace0\")"
   ]
  },
  {
   "cell_type": "code",
   "execution_count": 11,
   "metadata": {},
   "outputs": [
    {
     "name": "stdout",
     "output_type": "stream",
     "text": [
      "FileException: Input file is invalid\n"
     ]
    },
    {
     "ename": "NameError",
     "evalue": "name 'Transformation' is not defined",
     "output_type": "error",
     "traceback": [
      "\u001b[0;31m---------------------------------------------------------------------------\u001b[0m",
      "\u001b[0;31mNameError\u001b[0m                                 Traceback (most recent call last)",
      "Cell \u001b[0;32mIn[11], line 4\u001b[0m\n\u001b[1;32m      2\u001b[0m stopPath \u001b[39m=\u001b[39m \u001b[39m\"\u001b[39m\u001b[39m/Users/tommylw/Desktop/University/SE_4G06/Capstone-yoGERT/src/trace/trace0/stop/stops.csv\u001b[39m\u001b[39m\"\u001b[39m\n\u001b[1;32m      3\u001b[0m storedPath \u001b[39m=\u001b[39m \u001b[39m\"\u001b[39m\u001b[39m/Users/tommylw/Desktop/University/SE_4G06/Capstone-yoGERT/src/trace/trace0/stop/activity_location.csv\u001b[39m\u001b[39m\"\u001b[39m\n\u001b[0;32m----> 4\u001b[0m FetchActivityLocations(stopPath,storedPath,\u001b[39m50\u001b[39;49m)\n",
      "File \u001b[0;32m/opt/homebrew/lib/python3.10/site-packages/yoGERT/FetchActivityLocations.py:133\u001b[0m, in \u001b[0;36mFetchActivityLocations\u001b[0;34m(inPath, outPath, tol)\u001b[0m\n\u001b[1;32m    129\u001b[0m     list_of_stops_AL\u001b[39m.\u001b[39mappend(stopALTupple)\n\u001b[1;32m    132\u001b[0m listActivities \u001b[39m=\u001b[39m[]\n\u001b[0;32m--> 133\u001b[0m convertedResult \u001b[39m=\u001b[39m Transformation\u001b[39m.\u001b[39mconvertActivityLocation(list_of_stops_AL)\n\u001b[1;32m    134\u001b[0m listActivities\u001b[39m.\u001b[39mappend(convertedResult)\n\u001b[1;32m    136\u001b[0m \u001b[39m# Write result to a csv file\u001b[39;00m\n",
      "\u001b[0;31mNameError\u001b[0m: name 'Transformation' is not defined"
     ]
    }
   ],
   "source": [
    "# Find Activity Location\n",
    "stopPath = \"/Users/tommylw/Desktop/University/SE_4G06/Capstone-yoGERT/src/trace/trace0/stop/stops.csv\"\n",
    "storedPath = \"/Users/tommylw/Desktop/University/SE_4G06/Capstone-yoGERT/src/trace/trace0/stop/activity_location.csv\"\n",
    "FetchActivityLocations(stopPath,storedPath,50)"
   ]
  }
 ],
 "metadata": {
  "kernelspec": {
   "display_name": "Python 3",
   "language": "python",
   "name": "python3"
  },
  "language_info": {
   "codemirror_mode": {
    "name": "ipython",
    "version": 3
   },
   "file_extension": ".py",
   "mimetype": "text/x-python",
   "name": "python",
   "nbconvert_exporter": "python",
   "pygments_lexer": "ipython3",
   "version": "3.10.9"
  },
  "orig_nbformat": 4
 },
 "nbformat": 4,
 "nbformat_minor": 2
}
