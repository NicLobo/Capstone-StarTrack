{
 "cells": [
  {
   "cell_type": "code",
   "execution_count": 1,
   "id": "95918bd8",
   "metadata": {},
   "outputs": [],
   "source": [
    "import yoGERT"
   ]
  },
  {
   "cell_type": "code",
   "execution_count": 3,
   "id": "d85c6333",
   "metadata": {},
   "outputs": [
    {
     "ename": "NameError",
     "evalue": "name 'PreProcessing' is not defined",
     "output_type": "error",
     "traceback": [
      "\u001b[0;31m---------------------------------------------------------------------------\u001b[0m",
      "\u001b[0;31mNameError\u001b[0m                                 Traceback (most recent call last)",
      "Cell \u001b[0;32mIn [3], line 1\u001b[0m\n\u001b[0;32m----> 1\u001b[0m \u001b[43mPreProcessing\u001b[49m(\u001b[38;5;124m\"\u001b[39m\u001b[38;5;124m/home/moksha/4G06/Capstone-yoGERT/test/exampleDataset/trace_1.csv\u001b[39m\u001b[38;5;124m\"\u001b[39m, \u001b[38;5;124m\"\u001b[39m\u001b[38;5;124m/home/moksha/4G06/output.csv\u001b[39m\u001b[38;5;124m\"\u001b[39m)\n",
      "\u001b[0;31mNameError\u001b[0m: name 'PreProcessing' is not defined"
     ]
    }
   ],
   "source": [
    "yoGERT.PreProcessing(\"/home/moksha/4G06/Capstone-yoGERT/test/exampleDataset/trace_1.csv\", \"/home/moksha/4G06/output.csv\")"
   ]
  },
  {
   "cell_type": "code",
   "execution_count": null,
   "id": "cbceb345",
   "metadata": {},
   "outputs": [],
   "source": []
  }
 ],
 "metadata": {
  "kernelspec": {
   "display_name": "Python 3 (ipykernel)",
   "language": "python",
   "name": "python3"
  },
  "language_info": {
   "codemirror_mode": {
    "name": "ipython",
    "version": 3
   },
   "file_extension": ".py",
   "mimetype": "text/x-python",
   "name": "python",
   "nbconvert_exporter": "python",
   "pygments_lexer": "ipython3",
   "version": "3.8.10"
  }
 },
 "nbformat": 4,
 "nbformat_minor": 5
}
