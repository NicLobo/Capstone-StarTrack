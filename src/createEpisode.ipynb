{
 "cells": [
  {
   "cell_type": "code",
   "execution_count": 1,
   "metadata": {},
   "outputs": [
    {
     "name": "stdout",
     "output_type": "stream",
     "text": [
      "Directory  Episodes  Created \n",
      "   stop_id      stop_name  stop_desc   stop_lat   stop_lon\n",
      "0    18848       Clínicas        NaN        NaN -46.671108\n",
      "1    18848  Vila Madalena        NaN -23.546498 -46.691141\n",
      "next\n",
      "   stop_id   stop_name  stop_desc   stop_lat   stop_lon\n",
      "2    18850  Consolação        NaN -23.558094 -46.660205\n",
      "next\n",
      "   stop_id  stop_name  stop_desc   stop_lat   stop_lon\n",
      "3    18851  Conceição        NaN -23.635039 -46.641239\n",
      "next\n",
      "   stop_id  stop_name  stop_desc   stop_lat   stop_lon\n",
      "4    18852  Jabaquara        NaN -23.645996 -46.641027\n",
      "next\n",
      "   stop_id  stop_name  stop_desc   stop_lat   stop_lon\n",
      "5    18853  São Judas        NaN -23.625882 -46.640936\n",
      "next\n",
      "   stop_id stop_name  stop_desc   stop_lat   stop_lon\n",
      "6    18854     Saúde        NaN -23.618245 -46.639139\n",
      "next\n",
      "   stop_id        stop_name  stop_desc   stop_lat   stop_lon\n",
      "7    18855  Praça Da Árvore        NaN -23.610583 -46.637918\n",
      "next\n",
      "   stop_id   stop_name  stop_desc   stop_lat   stop_lon\n",
      "8    18856  Santa Cruz        NaN -23.598541 -46.636634\n",
      "next\n",
      "   stop_id     stop_name  stop_desc   stop_lat   stop_lon\n",
      "9    18857  Vila Mariana        NaN -23.589342 -46.634677\n",
      "next\n",
      "    stop_id   stop_name  stop_desc   stop_lat   stop_lon\n",
      "10    18858  Brigadeiro        NaN -23.567615 -46.649027\n",
      "next\n",
      "    stop_id     stop_name  stop_desc  stop_lat   stop_lon\n",
      "11    18859  Trianon-masp        NaN -23.56357 -46.653893\n",
      "next\n",
      "    stop_id stop_name  stop_desc   stop_lat   stop_lon\n",
      "12    18860  Ana Rosa        NaN -23.581203 -46.638489\n",
      "next\n",
      "    stop_id stop_name  stop_desc  stop_lat  stop_lon\n",
      "13    18861   Paraíso        NaN  -23.5754  -46.6407\n",
      "next\n",
      "    stop_id  stop_name  stop_desc   stop_lat   stop_lon\n",
      "14    18862  Vergueiro        NaN -23.568521 -46.639904\n",
      "next\n",
      "    stop_id    stop_name  stop_desc   stop_lat   stop_lon\n",
      "15    18863  São Joaquim        NaN -23.561435 -46.638534\n",
      "next\n"
     ]
    }
   ],
   "source": [
    "import pandas as pd\n",
    "import os\n",
    "\n",
    "\n",
    "def createEpisodes(csv_path):\n",
    "\n",
    "    #Reads csv and store in data frame\n",
    "    df = pd.read_csv(csv_path)\n",
    "    dirName = 'Episodes'\n",
    "\n",
    "\n",
    "    # Create target Directory\n",
    "    try: \n",
    "        os.mkdir(dirName)\n",
    "        print(\"Directory \" , dirName ,  \" Created \") \n",
    "    except FileExistsError:\n",
    "        print(\"Directory \" , dirName ,  \" already exists\")\n",
    "\n",
    "\n",
    "    #Gets all unique ids from csv\n",
    "    id = df['stop_id'].unique()\n",
    "\n",
    "    #Create csv for each unique set of ids and their corresponding rows \n",
    "    for i in id:\n",
    "        idframe =  df[df[\"id\"] == i]\n",
    "        idframe= idframe[[\"id\",\"lat\",\"lon\",\"time\"]]\n",
    "        idframe = idframe.dropna()\n",
    "        idframe.to_csv(\"./Episodes/ID_\"+str(i)+\"_Episode.csv\", index=False)\n",
    "\n",
    "\n",
    "\n",
    "\n",
    "\n",
    "        \n",
    "    \n",
    "\n",
    "    \n",
    "    \n",
    "\n",
    "\n",
    "\n",
    "    \n",
    "\n",
    "createEpisodes('stops.txt')"
   ]
  }
 ],
 "metadata": {
  "kernelspec": {
   "display_name": "Python 3.10.1 64-bit",
   "language": "python",
   "name": "python3"
  },
  "language_info": {
   "codemirror_mode": {
    "name": "ipython",
    "version": 3
   },
   "file_extension": ".py",
   "mimetype": "text/x-python",
   "name": "python",
   "nbconvert_exporter": "python",
   "pygments_lexer": "ipython3",
   "version": "3.10.1"
  },
  "orig_nbformat": 4,
  "vscode": {
   "interpreter": {
    "hash": "369f2c481f4da34e4445cda3fffd2e751bd1c4d706f27375911949ba6bb62e1c"
   }
  }
 },
 "nbformat": 4,
 "nbformat_minor": 2
}
