{
 "cells": [
  {
   "cell_type": "code",
   "execution_count": 1,
   "metadata": {},
   "outputs": [
    {
     "name": "stdout",
     "output_type": "stream",
     "text": [
      "Directory Segment already exists\n",
      "Directory  ./Segment/trace2  already exists\n",
      "/Users/Nicholas/Desktop/Capstone-yoGERT/src/Segment/trace2/points.csv\n",
      "User Guide: https://docs.kepler.gl/docs/keplergl-jupyter\n"
     ]
    },
    {
     "data": {
      "application/vnd.jupyter.widget-view+json": {
       "model_id": "2de39a410cd844b089ef0be07b1e0a3a",
       "version_major": 2,
       "version_minor": 0
      },
      "text/plain": [
       "KeplerGl(data={'data': {'index': [0, 1, 2, 3, 4, 5, 6, 7, 8, 9, 10, 11, 12, 13, 14, 15, 16, 17, 18, 19, 20, 21…"
      ]
     },
     "metadata": {},
     "output_type": "display_data"
    }
   ],
   "source": [
    "import pandas as pd\n",
    "import os\n",
    "import subprocess\n",
    "import geopandas as gpd\n",
    "import time\n",
    "import datetime \n",
    "from os.path import join\n",
    "import numpy as np\n",
    "import h3\n",
    "import geopy.distance\n",
    "import geopy as gp\n",
    "\n",
    "os.chdir(\"../src/\")\n",
    "\n",
    "#INPUT TRACE.CSV OUTPUT POINTS.CSV\n",
    "def createSegments(csv_path, title):\n",
    "\n",
    "    #Reads csv and store in data frame\n",
    "    df = pd.read_csv(csv_path)\n",
    "    df = df[[\"lat\",\"long\",\"time\"]]\n",
    "    df['time']= pd.to_datetime(df['time'])\n",
    "    df['index_column'] = df.index\n",
    "\n",
    "    starttime = pd.to_datetime(df['time'].iloc[0])\n",
    "    endtime = pd.to_datetime(df['time'].iloc[-1])\n",
    "    totaltime = pd.Timedelta(endtime - starttime).seconds \n",
    "\n",
    "    stepsize = round(len(df)/totaltime) - 1\n",
    "    df = df.drop(df[df.index_column%stepsize !=0].index)\n",
    "    df = df.reset_index()\n",
    "    df = df[[\"lat\",\"long\",\"time\"]]\n",
    "\n",
    "\n",
    "    # Create Segment Directory\n",
    "    try: \n",
    "        os.mkdir(\"Segment\")\n",
    "        print(\"Directory Segment Created \") \n",
    "    except FileExistsError:\n",
    "        print(\"Directory Segment already exists\")\n",
    "\n",
    "    #Create trace directory in segment directory\n",
    "    try: \n",
    "        path = \"./Segment/\"+title\n",
    "        os.mkdir(path)\n",
    "        print(\"Directory \" , path ,  \" Created \") \n",
    "    except FileExistsError:\n",
    "        print(\"Directory \" , path ,  \" already exists\")\n",
    "    \n",
    "    df.to_csv(path+\"/points.csv\", index=False)\n",
    "\n",
    "\n",
    "#INPUT POINTS.CSV OUTPUT VELOCITIES.CSV\n",
    "def createVelocities(csv_path):\n",
    "\n",
    "    df = pd.read_csv(csv_path)\n",
    "    df2= df.iloc[:-1 , :]\n",
    "    df1 = df.tail(-1)\n",
    "    df1 = df1.reset_index()\n",
    "\n",
    "\n",
    "    velocities = pd.DataFrame(columns= [\"start_lat\",\"start_long\",\"end_lat\",\"end_long\",\"start_time\",\"end_time\",\"total_time\",\"total_distance\",\"velocity\"])\n",
    "\n",
    "    velocities[\"start_lat\"] = df1[\"lat\"]\n",
    "    velocities[\"start_long\"] = df1[\"long\"]\n",
    "    velocities[\"end_lat\"] = df2[\"lat\"]\n",
    "    velocities[\"end_long\"] = df2[\"long\"]\n",
    "    velocities[\"start_time\"] = pd.to_datetime(df1['time'])\n",
    "    velocities[\"end_time\"] =  pd.to_datetime(df2['time'])\n",
    "    velocities[\"total_time\"] = (velocities[\"end_time\"] - velocities[\"start_time\"]).dt.total_seconds().abs()\n",
    "    velocities['total_distance'] = velocities.apply(lambda x: gp.distance.distance((x[0], x[1]), (x[2], x[3])).m, axis=1)\n",
    "    velocities['velocity'] = velocities['total_distance'] *velocities['total_time'] \n",
    "\n",
    "\n",
    "\n",
    "\n",
    "    velocitiesfinal = pd.DataFrame(columns= [\"start_lat\",\"start_long\",\"total_time\",\"total_distance\",\"velocity\"])\n",
    "    velocitiesfinal[\"start_lat\"] = velocities[\"start_lat\"]\n",
    "    velocitiesfinal[\"start_long\"] = velocities[\"start_long\"]\n",
    "    velocitiesfinal[\"total_time\"] = velocities[\"total_time\"]\n",
    "    velocitiesfinal[\"total_distance\"] = velocities[\"total_distance\"]\n",
    "    velocitiesfinal[\"velocity\"] = velocities[\"velocity\"]\n",
    "\n",
    "    velocitiesfinal.to_csv(\"./Segment/trace1/velocities.csv\", index=False)\n",
    "\n",
    "\n",
    "\n",
    "createSegments(\"../src/exampleDataset/trace_2.csv\",\"trace2\")\n",
    "createVelocities(\"./Segment/trace2/points.csv\")\n",
    "\n",
    "\n",
    "targetPath = os.path.join(\"../\", \"SHPfiles/\")\n",
    "os.mkdir(targetPath)\n",
    "os.chdir(targetPath)\n",
    "#Loops through each csvfile, creates point SHP file and writes to the new directory\n",
    "csvfile = \"/Users/Nicholas/Desktop/Capstone-yoGERT/src/Segment/trace2/points.csv\"\n",
    "print(csvfile)\n",
    "data = pd.read_csv(csvfile)\n",
    "dataGDF = gpd.GeoDataFrame(data, geometry = gpd.points_from_xy(data['long'], data['lat']))\n",
    "#Standardized ESRI wkt projection\n",
    "ESRI_WKT = 'GEOGCS[\"GCS_WGS_1984\",DATUM[\"D_WGS_1984\",SPHEROID[\"WGS_1984\",6378137,298.257223563]],PRIMEM[\"Greenwich\",0],UNIT[\"Degree\",0.017453292519943295]]'\n",
    "shpfilename = \"travelepisodew.shp\"\n",
    "dataGDF.to_file(filename=shpfilename, driver = 'ESRI Shapefile', crs=ESRI_WKT)\n",
    "\n",
    "\n",
    "from keplergl import KeplerGl\n",
    "map_2 = KeplerGl()\n",
    "filename = \"data\"\n",
    "map_2.add_data(data=gpd.read_file(\"../SHPfiles/travelepisodew.shp\"), name=filename)\n",
    "map_2"
   ]
  },
  {
   "cell_type": "markdown",
   "metadata": {},
   "source": []
  }
 ],
 "metadata": {
  "kernelspec": {
   "display_name": "Python 3.10.1 64-bit",
   "language": "python",
   "name": "python3"
  },
  "language_info": {
   "codemirror_mode": {
    "name": "ipython",
    "version": 3
   },
   "file_extension": ".py",
   "mimetype": "text/x-python",
   "name": "python",
   "nbconvert_exporter": "python",
   "pygments_lexer": "ipython3",
   "version": "3.10.1"
  },
  "orig_nbformat": 4,
  "vscode": {
   "interpreter": {
    "hash": "369f2c481f4da34e4445cda3fffd2e751bd1c4d706f27375911949ba6bb62e1c"
   }
  }
 },
 "nbformat": 4,
 "nbformat_minor": 2
}
