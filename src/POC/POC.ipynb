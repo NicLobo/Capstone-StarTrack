{
 "cells": [
  {
   "cell_type": "code",
   "execution_count": 6,
   "metadata": {},
   "outputs": [
    {
     "name": "stdout",
     "output_type": "stream",
     "text": [
      "Requirement already satisfied: pandas in ./POCenv/lib/python3.8/site-packages (1.5.2)\n",
      "Requirement already satisfied: pytz>=2020.1 in ./POCenv/lib/python3.8/site-packages (from pandas) (2022.6)\n",
      "Requirement already satisfied: numpy>=1.20.3 in ./POCenv/lib/python3.8/site-packages (from pandas) (1.23.5)\n",
      "Requirement already satisfied: python-dateutil>=2.8.1 in ./POCenv/lib/python3.8/site-packages (from pandas) (2.8.2)\n",
      "Requirement already satisfied: six>=1.5 in ./POCenv/lib/python3.8/site-packages (from python-dateutil>=2.8.1->pandas) (1.16.0)\n",
      "Requirement already satisfied: geopandas in ./POCenv/lib/python3.8/site-packages (0.12.1)\n",
      "Requirement already satisfied: fiona>=1.8 in ./POCenv/lib/python3.8/site-packages (from geopandas) (1.8.22)\n",
      "Requirement already satisfied: shapely>=1.7 in ./POCenv/lib/python3.8/site-packages (from geopandas) (1.8.5.post1)\n",
      "Requirement already satisfied: pyproj>=2.6.1.post1 in ./POCenv/lib/python3.8/site-packages (from geopandas) (3.4.0)\n",
      "Requirement already satisfied: pandas>=1.0.0 in ./POCenv/lib/python3.8/site-packages (from geopandas) (1.5.2)\n",
      "Requirement already satisfied: packaging in ./POCenv/lib/python3.8/site-packages (from geopandas) (21.3)\n",
      "Requirement already satisfied: attrs>=17 in ./POCenv/lib/python3.8/site-packages (from fiona>=1.8->geopandas) (22.1.0)\n",
      "Requirement already satisfied: cligj>=0.5 in ./POCenv/lib/python3.8/site-packages (from fiona>=1.8->geopandas) (0.7.2)\n",
      "Requirement already satisfied: certifi in ./POCenv/lib/python3.8/site-packages (from fiona>=1.8->geopandas) (2022.9.24)\n",
      "Requirement already satisfied: munch in ./POCenv/lib/python3.8/site-packages (from fiona>=1.8->geopandas) (2.5.0)\n",
      "Requirement already satisfied: six>=1.7 in ./POCenv/lib/python3.8/site-packages (from fiona>=1.8->geopandas) (1.16.0)\n",
      "Requirement already satisfied: click-plugins>=1.0 in ./POCenv/lib/python3.8/site-packages (from fiona>=1.8->geopandas) (1.1.1)\n",
      "Requirement already satisfied: setuptools in ./POCenv/lib/python3.8/site-packages (from fiona>=1.8->geopandas) (65.5.1)\n",
      "Requirement already satisfied: click>=4.0 in ./POCenv/lib/python3.8/site-packages (from fiona>=1.8->geopandas) (8.1.3)\n",
      "Requirement already satisfied: python-dateutil>=2.8.1 in ./POCenv/lib/python3.8/site-packages (from pandas>=1.0.0->geopandas) (2.8.2)\n",
      "Requirement already satisfied: pytz>=2020.1 in ./POCenv/lib/python3.8/site-packages (from pandas>=1.0.0->geopandas) (2022.6)\n",
      "Requirement already satisfied: numpy>=1.20.3 in ./POCenv/lib/python3.8/site-packages (from pandas>=1.0.0->geopandas) (1.23.5)\n",
      "Requirement already satisfied: pyparsing!=3.0.5,>=2.0.2 in ./POCenv/lib/python3.8/site-packages (from packaging->geopandas) (3.0.9)\n"
     ]
    }
   ],
   "source": [
    "!pip3 install pandas\n",
    "!pip3 install geopandas"
   ]
  },
  {
   "cell_type": "code",
   "execution_count": 22,
   "metadata": {},
   "outputs": [
    {
     "ename": "SyntaxError",
     "evalue": "invalid syntax (671697236.py, line 50)",
     "output_type": "error",
     "traceback": [
      "\u001b[0;36m  Cell \u001b[0;32mIn [22], line 50\u001b[0;36m\u001b[0m\n\u001b[0;31m    os.chdir(..)\u001b[0m\n\u001b[0m             ^\u001b[0m\n\u001b[0;31mSyntaxError\u001b[0m\u001b[0;31m:\u001b[0m invalid syntax\n"
     ]
    }
   ],
   "source": [
    "import pandas as pd\n",
    "import os\n",
    "import geopandas as gpd\n",
    "from os.path import join\n",
    "\n",
    "def createEpisodes(csv_path):\n",
    "\n",
    "    #Reads csv and store in data frame\n",
    "    df = pd.read_csv(csv_path)\n",
    "    dirName = 'Episodes'\n",
    "\n",
    "\n",
    "    # Create target Directory\n",
    "    try: \n",
    "        os.mkdir(dirName)\n",
    "        print(\"Directory \" , dirName ,  \" Created \") \n",
    "    except FileExistsError:\n",
    "        print(\"Directory \" , dirName ,  \" already exists\")\n",
    "\n",
    "\n",
    "    #Gets all unique ids from csv\n",
    "    id = df['stop_id'].unique()\n",
    "\n",
    "    #Create csv for each unique set of ids and their corresponding rows \n",
    "    for i in id:\n",
    "        idframe =  df[df[\"id\"] == i]\n",
    "        idframe= idframe[[\"id\",\"lat\",\"lon\",\"time\"]]\n",
    "        idframe = idframe.dropna()\n",
    "        idframe.to_csv(\"./Episodes/ID_\"+str(i)+\"_Episode.csv\", index=False)\n",
    " \n",
    "\n",
    "#This function receives a directory and returns an array of all files\n",
    "#within the directory, full file paths\n",
    "def readDir(inputpath):\n",
    "    return [os.path.join(inputpath, file) for file in os.listdir(inputpath)]\n",
    "\n",
    "#The function receives an array of csv episode filepaths and \n",
    "#returns a directory with the corresponding point shapefiles \n",
    "def convertCSVtoSHP(filenames):\n",
    "    targetPath = os.path.join(\"../\", \"SHPfiles/\")\n",
    "    os.mkdir(targetPath)\n",
    "    os.chdir(targetPath)\n",
    "    #Loops through each csvfile, creates point SHP file and writes to the new directory\n",
    "    for csvfile in range(len(filenames)):\n",
    "        data = pd.read_csv(filenames[csvfile])\n",
    "        dataGDF = gpd.GeoDataFrame(data, geometry = gpd.points_from_xy(data['lon'], data['lat']))\n",
    "        #Standardized ESRI wkt projection\n",
    "        ESRI_WKT = 'GEOGCS[\"GCS_WGS_1984\",DATUM[\"D_WGS_1984\",SPHEROID[\"WGS_1984\",6378137,298.257223563]],PRIMEM[\"Greenwich\",0],UNIT[\"Degree\",0.017453292519943295]]'\n",
    "        shpfilename = 'travelepisode' + str(csvfile) + \".shp\"\n",
    "        dataGDF.to_file(filename=shpfilename, driver = 'ESRI Shapefile', crs=ESRI_WKT)\n",
    "    return targetPath\n"
   ]
  },
  {
   "cell_type": "code",
   "execution_count": 10,
   "metadata": {},
   "outputs": [
    {
     "name": "stdout",
     "output_type": "stream",
     "text": [
      "Directory  Episodes  Created \n"
     ]
    }
   ],
   "source": [
    "createEpisode('../stops.txt')"
   ]
  },
  {
   "cell_type": "code",
   "execution_count": 21,
   "metadata": {},
   "outputs": [
    {
     "name": "stdout",
     "output_type": "stream",
     "text": [
      "/home/moksha/4G06/Capstone-yoGERT/src/SHPfiles\r\n"
     ]
    },
    {
     "ename": "FileNotFoundError",
     "evalue": "[Errno 2] No such file or directory: './Episodes/'",
     "output_type": "error",
     "traceback": [
      "\u001b[0;31m---------------------------------------------------------------------------\u001b[0m",
      "\u001b[0;31mFileNotFoundError\u001b[0m                         Traceback (most recent call last)",
      "Cell \u001b[0;32mIn [21], line 2\u001b[0m\n\u001b[1;32m      1\u001b[0m get_ipython()\u001b[38;5;241m.\u001b[39msystem(\u001b[38;5;124m'\u001b[39m\u001b[38;5;124mpwd\u001b[39m\u001b[38;5;124m'\u001b[39m)\n\u001b[0;32m----> 2\u001b[0m inputarray \u001b[38;5;241m=\u001b[39m \u001b[43mreadDir\u001b[49m\u001b[43m(\u001b[49m\u001b[38;5;124;43m\"\u001b[39;49m\u001b[38;5;124;43m./Episodes/\u001b[39;49m\u001b[38;5;124;43m\"\u001b[39;49m\u001b[43m)\u001b[49m\n\u001b[1;32m      3\u001b[0m convertCSVtoSHP(inputarray)\n",
      "Cell \u001b[0;32mIn [9], line 34\u001b[0m, in \u001b[0;36mreadDir\u001b[0;34m(inputpath)\u001b[0m\n\u001b[1;32m     33\u001b[0m \u001b[38;5;28;01mdef\u001b[39;00m \u001b[38;5;21mreadDir\u001b[39m(inputpath):\n\u001b[0;32m---> 34\u001b[0m     \u001b[38;5;28;01mreturn\u001b[39;00m [os\u001b[38;5;241m.\u001b[39mpath\u001b[38;5;241m.\u001b[39mjoin(inputpath, file) \u001b[38;5;28;01mfor\u001b[39;00m file \u001b[38;5;129;01min\u001b[39;00m \u001b[43mos\u001b[49m\u001b[38;5;241;43m.\u001b[39;49m\u001b[43mlistdir\u001b[49m\u001b[43m(\u001b[49m\u001b[43minputpath\u001b[49m\u001b[43m)\u001b[49m]\n",
      "\u001b[0;31mFileNotFoundError\u001b[0m: [Errno 2] No such file or directory: './Episodes/'"
     ]
    }
   ],
   "source": [
    "!pwd\n",
    "inputarray = readDir(\"./Episodes/\")\n",
    "convertCSVtoSHP(inputarray)"
   ]
  },
  {
   "cell_type": "code",
   "execution_count": null,
   "metadata": {},
   "outputs": [],
   "source": []
  }
 ],
 "metadata": {
  "kernelspec": {
   "display_name": "Python 3 (ipykernel)",
   "language": "python",
   "name": "python3"
  },
  "language_info": {
   "codemirror_mode": {
    "name": "ipython",
    "version": 3
   },
   "file_extension": ".py",
   "mimetype": "text/x-python",
   "name": "python",
   "nbconvert_exporter": "python",
   "pygments_lexer": "ipython3",
   "version": "3.8.10"
  }
 },
 "nbformat": 4,
 "nbformat_minor": 2
}
