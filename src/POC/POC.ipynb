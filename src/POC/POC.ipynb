{
 "cells": [
  {
   "cell_type": "code",
   "execution_count": 15,
   "metadata": {},
   "outputs": [
    {
     "name": "stdout",
     "output_type": "stream",
     "text": [
      "Requirement already satisfied: pandas in /home/moksha/.local/lib/python3.8/site-packages (1.5.1)\n",
      "Requirement already satisfied: numpy>=1.20.3; python_version < \"3.10\" in /home/moksha/.local/lib/python3.8/site-packages (from pandas) (1.23.5)\n",
      "Requirement already satisfied: python-dateutil>=2.8.1 in /home/moksha/.local/lib/python3.8/site-packages (from pandas) (2.8.2)\n",
      "Requirement already satisfied: pytz>=2020.1 in /home/moksha/.local/lib/python3.8/site-packages (from pandas) (2022.6)\n",
      "Requirement already satisfied: six>=1.5 in /usr/lib/python3/dist-packages (from python-dateutil>=2.8.1->pandas) (1.14.0)\n",
      "Requirement already satisfied: geopandas in /home/moksha/.local/lib/python3.8/site-packages (0.12.1)\n",
      "Requirement already satisfied: fiona>=1.8 in /home/moksha/.local/lib/python3.8/site-packages (from geopandas) (1.8.22)\n",
      "Requirement already satisfied: packaging in /home/moksha/.local/lib/python3.8/site-packages (from geopandas) (21.3)\n",
      "Requirement already satisfied: pyproj>=2.6.1.post1 in /home/moksha/.local/lib/python3.8/site-packages (from geopandas) (3.4.0)\n",
      "Requirement already satisfied: shapely>=1.7 in /home/moksha/.local/lib/python3.8/site-packages (from geopandas) (1.8.5.post1)\n",
      "Requirement already satisfied: pandas>=1.0.0 in /home/moksha/.local/lib/python3.8/site-packages (from geopandas) (1.5.1)\n",
      "Requirement already satisfied: setuptools in /usr/lib/python3/dist-packages (from fiona>=1.8->geopandas) (45.2.0)\n",
      "Requirement already satisfied: six>=1.7 in /usr/lib/python3/dist-packages (from fiona>=1.8->geopandas) (1.14.0)\n",
      "Requirement already satisfied: certifi in /usr/lib/python3/dist-packages (from fiona>=1.8->geopandas) (2019.11.28)\n",
      "Requirement already satisfied: click>=4.0 in /usr/lib/python3/dist-packages (from fiona>=1.8->geopandas) (7.0)\n",
      "Requirement already satisfied: click-plugins>=1.0 in /home/moksha/.local/lib/python3.8/site-packages (from fiona>=1.8->geopandas) (1.1.1)\n",
      "Requirement already satisfied: cligj>=0.5 in /home/moksha/.local/lib/python3.8/site-packages (from fiona>=1.8->geopandas) (0.7.2)\n",
      "Requirement already satisfied: attrs>=17 in /usr/lib/python3/dist-packages (from fiona>=1.8->geopandas) (19.3.0)\n",
      "Requirement already satisfied: munch in /home/moksha/.local/lib/python3.8/site-packages (from fiona>=1.8->geopandas) (2.5.0)\n",
      "Requirement already satisfied: pyparsing!=3.0.5,>=2.0.2 in /home/moksha/.local/lib/python3.8/site-packages (from packaging->geopandas) (3.0.9)\n",
      "Requirement already satisfied: pytz>=2020.1 in /home/moksha/.local/lib/python3.8/site-packages (from pandas>=1.0.0->geopandas) (2022.6)\n",
      "Requirement already satisfied: python-dateutil>=2.8.1 in /home/moksha/.local/lib/python3.8/site-packages (from pandas>=1.0.0->geopandas) (2.8.2)\n",
      "Requirement already satisfied: numpy>=1.20.3; python_version < \"3.10\" in /home/moksha/.local/lib/python3.8/site-packages (from pandas>=1.0.0->geopandas) (1.23.5)\n"
     ]
    }
   ],
   "source": [
    "!pip3 install pandas\n",
    "!pip3 install geopandas"
   ]
  },
  {
   "cell_type": "code",
   "execution_count": 67,
   "metadata": {},
   "outputs": [],
   "source": [
    "import pandas as pd\n",
    "import os\n",
    "import geopandas as gpd\n",
    "from os.path import join\n",
    "\n",
    "def createEpisodes(csv_path):\n",
    "    #Reads csv and store in data frame\n",
    "    df = pd.read_csv(csv_path)\n",
    "    dirName = 'Episodes'\n",
    "\n",
    "    # Create target Directory\n",
    "    try: \n",
    "        os.mkdir(dirName)\n",
    "        print(\"Directory \" , dirName ,  \" Created \") \n",
    "    except FileExistsError:\n",
    "        print(\"Directory \" , dirName ,  \" already exists\")\n",
    "\n",
    "\n",
    "    #Gets all unique ids from csv\n",
    "    id = df['id'].unique()\n",
    "\n",
    "    #Create csv for each unique set of ids and their corresponding rows \n",
    "    for i in id:\n",
    "        idframe =  df[df[\"id\"] == i]\n",
    "        idframe= idframe[[\"id\",\"lat\",\"lon\",\"time\"]]\n",
    "        idframe = idframe.dropna()\n",
    "        idframe.to_csv(\"./Episodes/ID_\"+str(i)+\"_Episode.csv\", index=False)\n",
    " \n",
    "\n",
    "#This function receives a directory and returns an array of all files\n",
    "#within the directory, full file paths\n",
    "def readDir(inputpath):\n",
    "    #use list comprehension to list all of the files in a directory\n",
    "    #I use absolute filepaths for clarity and continuity within code\n",
    "    return [os.path.join(inputpath, file) for file in os.listdir(inputpath)]\n",
    "\n",
    "\n",
    "#try to create SHP files directory\n",
    "targetPath = \"SHPfiles\"\n",
    "try:     \n",
    "    os.mkdir(targetPath)\n",
    "except FileExistsError:\n",
    "    pass\n",
    "    \n",
    "#The function receives an array of csv episode filepaths and \n",
    "#returns a directory with the corresponding point shapefiles \n",
    "def convertCSVtoSHP(filenames):\n",
    "    #Loops through each csvfile, creates point SHP file and writes to the new directory\n",
    "    for csvfile in range(len(filenames)):\n",
    "\n",
    "        #reading the csv file that nicholas created to a pandas dataframe\n",
    "        data = pd.read_csv(filenames[csvfile])\n",
    "\n",
    "        #creating a Geodataframe from the past dataframe\n",
    "        dataGDF = gpd.GeoDataFrame(data, geometry = gpd.points_from_xy(data['lon'], data['lat']))\n",
    "\n",
    "        #Standardized ESRI wkt projection\n",
    "        #https://www.esri.com/arcgis-blog/products/arcgis-pro/mapping/coordinate-systems-difference/\n",
    "        ESRI_WKT = 'GEOGCS[\"GCS_WGS_1984\",DATUM[\"D_WGS_1984\",SPHEROID[\"WGS_1984\",6378137,298.257223563]],PRIMEM[\"Greenwich\",0],UNIT[\"Degree\",0.017453292519943295]]'\n",
    "\n",
    "        #creating the unique filename for the shp file\n",
    "        filename = os.path.basename(filenames[csvfile])\n",
    "        shpfilename = filename[:len(filename)-3] + \"shp\"\n",
    "\n",
    "        #writing to a SHP from the GeoDataframe\n",
    "        dataGDF.to_file(filename=\"./SHPfiles/\"+shpfilename, driver = 'ESRI Shapefile', crs=ESRI_WKT)\n",
    "\n",
    "    #outputs the path to the shapefiles\n",
    "    return targetPath\n"
   ]
  },
  {
   "cell_type": "code",
   "execution_count": 68,
   "metadata": {},
   "outputs": [
    {
     "name": "stdout",
     "output_type": "stream",
     "text": [
      "Directory  Episodes  Created \n"
     ]
    }
   ],
   "source": [
    "createEpisodes('../stops.txt')"
   ]
  },
  {
   "cell_type": "code",
   "execution_count": 69,
   "metadata": {},
   "outputs": [
    {
     "data": {
      "text/plain": [
       "'SHPfiles'"
      ]
     },
     "execution_count": 69,
     "metadata": {},
     "output_type": "execute_result"
    }
   ],
   "source": [
    "inputarray = readDir(\"Episodes/\")\n",
    "convertCSVtoSHP(inputarray)"
   ]
  },
  {
   "cell_type": "code",
   "execution_count": 70,
   "metadata": {},
   "outputs": [
    {
     "data": {
      "image/png": "[encoded data removed]",
      "text/plain": [
       "<Figure size 1000x1000 with 1 Axes>"
      ]
     },
     "metadata": {},
     "output_type": "display_data"
    }
   ],
   "source": [
    "import matplotlib.pyplot as plt\n",
    "fig, ax = plt.subplots(figsize=(10,10))\n",
    "\n",
    "for i in readDir(\"SHPfiles/\"):\n",
    "    if (\".shp\" in i):\n",
    "        shapefile = gpd.read_file(i)\n",
    "        shapefile.plot(ax=ax)\n",
    "        break"
   ]
  },
  {
   "cell_type": "code",
   "execution_count": 71,
   "metadata": {},
   "outputs": [
    {
     "name": "stdout",
     "output_type": "stream",
     "text": [
      "User Guide: https://docs.kepler.gl/docs/keplergl-jupyter\n"
     ]
    },
    {
     "data": {
      "application/vnd.jupyter.widget-view+json": {
       "model_id": "12b8b402d89e4307b37522407cf4c356",
       "version_major": 2,
       "version_minor": 0
      },
      "text/plain": [
       "KeplerGl(data={'dataSHPfiles/ID_18848_Episode.shp': {'index': [0, 1, 2, 3, 4, 5, 6, 7, 8, 9, 10, 11, 12, 13, 1…"
      ]
     },
     "metadata": {},
     "output_type": "display_data"
    }
   ],
   "source": [
    "# Load a map with data and config and height\n",
    "from keplergl import KeplerGl\n",
    "map_2 = KeplerGl()\n",
    "for i in readDir(\"SHPfiles/\"):\n",
    "    if (\".shp\" in i):\n",
    "        filename = \"data\"+ i\n",
    "        map_2.add_data(data=gpd.read_file(i), name=filename)\n",
    "map_2"
   ]
  },
  {
   "cell_type": "code",
   "execution_count": 66,
   "metadata": {},
   "outputs": [],
   "source": [
    "!rm -r SHPfiles\n",
    "!rm -r Episodes"
   ]
  }
 ],
 "metadata": {
  "kernelspec": {
   "display_name": "Python 3.8.10 64-bit",
   "language": "python",
   "name": "python3"
  },
  "language_info": {
   "codemirror_mode": {
    "name": "ipython",
    "version": 3
   },
   "file_extension": ".py",
   "mimetype": "text/x-python",
   "name": "python",
   "nbconvert_exporter": "python",
   "pygments_lexer": "ipython3",
   "version": "3.8.10"
  },
  "vscode": {
   "interpreter": {
    "hash": "e7370f93d1d0cde622a1f8e1c04877d8463912d04d973331ad4851f04de6915a"
   }
  }
 },
 "nbformat": 4,
 "nbformat_minor": 2
}
